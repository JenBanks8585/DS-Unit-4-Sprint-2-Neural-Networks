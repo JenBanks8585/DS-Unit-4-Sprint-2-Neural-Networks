{
 "cells": [
  {
   "cell_type": "markdown",
   "metadata": {
    "colab_type": "text",
    "id": "NGGrt9EYlCqY"
   },
   "source": [
    "<img align=\"left\" src=\"https://lever-client-logos.s3.amazonaws.com/864372b1-534c-480e-acd5-9711f850815c-1524247202159.png\" width=200>\n",
    "<br></br>\n",
    "\n",
    "# Backpropagation Practice\n",
    "\n",
    "## *Data Science Unit 4 Sprint 2 Assignment 2*\n",
    "\n",
    "Using TensorFlow Keras, Implement a 3 input, 4 node hidden-layer, 1 output node Multilayer Perceptron on the following dataset:\n",
    "\n",
    "| x1 | x2 | x3 | y |\n",
    "|----|----|----|---|\n",
    "| 0  | 0  | 1  | 0 |\n",
    "| 0  | 1  | 1  | 1 |\n",
    "| 1  | 0  | 1  | 1 |\n",
    "| 0  | 1  | 0  | 1 |\n",
    "| 1  | 0  | 0  | 1 |\n",
    "| 1  | 1  | 1  | 0 |\n",
    "| 0  | 0  | 0  | 0 |\n",
    "\n",
    "If you look at the data you'll notice that the first two columns behave like an XOR gate while the last column is mostly just noise. Remember that creating an XOR gate was what the perceptron was criticized for not being able to learn.\n",
    "\n",
    "This is your \"Hello World!\" of TensorFlow.\n",
    "\n",
    "### Example TensorFlow Starter Code\n",
    "\n",
    "```python \n",
    "from tensorflow.keras.models import Sequential\n",
    "from tensorflow.keras.layers import Dense\n",
    "\n",
    "model = Sequential([\n",
    "    Dense(3, activation='sigmoid', input_dim=2),\n",
    "    Dense(1, activation='sigmoid')\n",
    "])\n",
    "\n",
    "model.compile(optimizer='sgd', loss='binary_crossentropy', metrics=['acc'])\n",
    "\n",
    "results = model.fit(X,y, epochs=100)\n",
    "\n",
    "```\n",
    "\n",
    "### Additional Written Tasks:\n",
    "1. Investigate the various [loss functions](https://www.tensorflow.org/api_docs/python/tf/keras/losses). Which is best suited for the task at hand (predicting 1 / 0) and why? \n",
    "2. What is the difference between a loss function and a metric? Why might we need both in Keras? \n",
    "3. Investigate the various [optimizers](https://www.tensorflow.org/api_docs/python/tf/keras/optimizers). Stochastic Gradient Descent (`sgd`) is not the learning algorithm dejour anyone. Why is that? What do newer optimizers such as `adam` have to offer? "
   ]
  },
  {
   "cell_type": "code",
   "execution_count": null,
   "metadata": {
    "colab": {},
    "colab_type": "code",
    "id": "nEREYT-3wI1f"
   },
   "outputs": [],
   "source": [
    "##### Your Code Here #####\n",
    "\n"
   ]
  },
  {
   "cell_type": "markdown",
   "metadata": {},
   "source": [
    "### Build a Tensor Keras Perceptron\n",
    "\n",
    "Try to match the architecture we used on Monday - inputs nodes and one output node. Apply this architecture to the XOR-ish dataset above. \n",
    "\n",
    "After fitting your model answer these questions: \n",
    "\n",
    "Are you able to achieve the same results as a bigger architecture from the first part of the assignment? Why is this disparity the case? What properties of the XOR dataset would cause this disparity? \n",
    "\n",
    "Now extrapolate this behavior on a much larger dataset in terms of features. What kind of architecture decisions could we make to avoid the problems the XOR dataset presents at scale? \n",
    "\n",
    "*Note:* The bias term is baked in by default in the Dense layer."
   ]
  },
  {
   "cell_type": "code",
   "execution_count": null,
   "metadata": {},
   "outputs": [],
   "source": [
    "### Compare "
   ]
  },
  {
   "cell_type": "markdown",
   "metadata": {
    "colab_type": "text",
    "id": "8b-r70o8p2Dm"
   },
   "source": [
    "## Try building/training a more complex MLP on a bigger dataset.\n",
    "\n",
    "Use TensorFlow Keras & the [MNIST dataset](http://yann.lecun.com/exdb/mnist/) to build the canonical handwriting digit recognizer and see what kind of accuracy you can achieve. \n",
    "\n",
    "If you need inspiration, the Internet is chalk-full of tutorials, but I want you to see how far you can get on your own first. I've linked to the original MNIST dataset above but it will probably be easier to download data through a neural network library. If you reference outside resources make sure you understand every line of code that you're using from other sources, and share with your fellow students helpful resources that you find.\n",
    "\n",
    "\n",
    "### Parts\n",
    "1. Gathering & Transforming the Data\n",
    "2. Making MNIST a Binary Problem\n",
    "3. Estimating your Neural Network (the part you focus on)"
   ]
  },
  {
   "cell_type": "code",
   "execution_count": 5,
   "metadata": {},
   "outputs": [],
   "source": [
    "from tensorflow.keras.models import Sequential\n",
    "from tensorflow.keras.layers import Dense, Dropout\n",
    "from sklearn.model_selection import train_test_split\n",
    "from tensorflow.keras.utils import plot_model\n",
    "from numpy import loadtxt\n"
   ]
  },
  {
   "cell_type": "code",
   "execution_count": 87,
   "metadata": {},
   "outputs": [
    {
     "data": {
      "text/html": [
       "<div>\n",
       "<style scoped>\n",
       "    .dataframe tbody tr th:only-of-type {\n",
       "        vertical-align: middle;\n",
       "    }\n",
       "\n",
       "    .dataframe tbody tr th {\n",
       "        vertical-align: top;\n",
       "    }\n",
       "\n",
       "    .dataframe thead th {\n",
       "        text-align: right;\n",
       "    }\n",
       "</style>\n",
       "<table border=\"1\" class=\"dataframe\">\n",
       "  <thead>\n",
       "    <tr style=\"text-align: right;\">\n",
       "      <th></th>\n",
       "      <th>Survived</th>\n",
       "      <th>Pclass</th>\n",
       "      <th>Sex</th>\n",
       "      <th>Age</th>\n",
       "      <th>SibSp</th>\n",
       "      <th>Parch</th>\n",
       "      <th>Fare</th>\n",
       "      <th>Embarked</th>\n",
       "    </tr>\n",
       "  </thead>\n",
       "  <tbody>\n",
       "    <tr>\n",
       "      <th>0</th>\n",
       "      <td>0</td>\n",
       "      <td>3</td>\n",
       "      <td>male</td>\n",
       "      <td>22.0</td>\n",
       "      <td>1</td>\n",
       "      <td>0</td>\n",
       "      <td>7.2500</td>\n",
       "      <td>S</td>\n",
       "    </tr>\n",
       "    <tr>\n",
       "      <th>1</th>\n",
       "      <td>1</td>\n",
       "      <td>1</td>\n",
       "      <td>female</td>\n",
       "      <td>38.0</td>\n",
       "      <td>1</td>\n",
       "      <td>0</td>\n",
       "      <td>71.2833</td>\n",
       "      <td>C</td>\n",
       "    </tr>\n",
       "  </tbody>\n",
       "</table>\n",
       "</div>"
      ],
      "text/plain": [
       "   Survived  Pclass     Sex   Age  SibSp  Parch     Fare Embarked\n",
       "0         0       3    male  22.0      1      0   7.2500        S\n",
       "1         1       1  female  38.0      1      0  71.2833        C"
      ]
     },
     "execution_count": 87,
     "metadata": {},
     "output_type": "execute_result"
    }
   ],
   "source": [
    "import pandas as pd\n",
    "\n",
    "dataset = pd.read_csv('https://raw.githubusercontent.com/ashishpatel26/Titanic-Machine-Learning-from-Disaster/master/input/train.csv')\n",
    "dataset.drop(columns = ['PassengerId', 'Name', 'Ticket', 'Cabin'],  inplace = True)\n",
    "dataset.head(2)"
   ]
  },
  {
   "cell_type": "code",
   "execution_count": null,
   "metadata": {},
   "outputs": [],
   "source": []
  },
  {
   "cell_type": "code",
   "execution_count": 88,
   "metadata": {},
   "outputs": [
    {
     "data": {
      "text/plain": [
       "S    644\n",
       "C    168\n",
       "Q     77\n",
       "Name: Embarked, dtype: int64"
      ]
     },
     "execution_count": 88,
     "metadata": {},
     "output_type": "execute_result"
    }
   ],
   "source": [
    "dataset['Embarked'].value_counts()"
   ]
  },
  {
   "cell_type": "code",
   "execution_count": 89,
   "metadata": {},
   "outputs": [
    {
     "data": {
      "text/html": [
       "<div>\n",
       "<style scoped>\n",
       "    .dataframe tbody tr th:only-of-type {\n",
       "        vertical-align: middle;\n",
       "    }\n",
       "\n",
       "    .dataframe tbody tr th {\n",
       "        vertical-align: top;\n",
       "    }\n",
       "\n",
       "    .dataframe thead th {\n",
       "        text-align: right;\n",
       "    }\n",
       "</style>\n",
       "<table border=\"1\" class=\"dataframe\">\n",
       "  <thead>\n",
       "    <tr style=\"text-align: right;\">\n",
       "      <th></th>\n",
       "      <th>Survived</th>\n",
       "      <th>Pclass</th>\n",
       "      <th>Sex</th>\n",
       "      <th>Age</th>\n",
       "      <th>SibSp</th>\n",
       "      <th>Parch</th>\n",
       "      <th>Fare</th>\n",
       "      <th>Embarked</th>\n",
       "    </tr>\n",
       "  </thead>\n",
       "  <tbody>\n",
       "    <tr>\n",
       "      <th>0</th>\n",
       "      <td>0</td>\n",
       "      <td>3</td>\n",
       "      <td>0</td>\n",
       "      <td>22.0</td>\n",
       "      <td>1</td>\n",
       "      <td>0</td>\n",
       "      <td>7.2500</td>\n",
       "      <td>0.0</td>\n",
       "    </tr>\n",
       "    <tr>\n",
       "      <th>1</th>\n",
       "      <td>1</td>\n",
       "      <td>1</td>\n",
       "      <td>1</td>\n",
       "      <td>38.0</td>\n",
       "      <td>1</td>\n",
       "      <td>0</td>\n",
       "      <td>71.2833</td>\n",
       "      <td>1.0</td>\n",
       "    </tr>\n",
       "    <tr>\n",
       "      <th>2</th>\n",
       "      <td>1</td>\n",
       "      <td>3</td>\n",
       "      <td>1</td>\n",
       "      <td>26.0</td>\n",
       "      <td>0</td>\n",
       "      <td>0</td>\n",
       "      <td>7.9250</td>\n",
       "      <td>0.0</td>\n",
       "    </tr>\n",
       "    <tr>\n",
       "      <th>3</th>\n",
       "      <td>1</td>\n",
       "      <td>1</td>\n",
       "      <td>1</td>\n",
       "      <td>35.0</td>\n",
       "      <td>1</td>\n",
       "      <td>0</td>\n",
       "      <td>53.1000</td>\n",
       "      <td>0.0</td>\n",
       "    </tr>\n",
       "    <tr>\n",
       "      <th>4</th>\n",
       "      <td>0</td>\n",
       "      <td>3</td>\n",
       "      <td>0</td>\n",
       "      <td>35.0</td>\n",
       "      <td>0</td>\n",
       "      <td>0</td>\n",
       "      <td>8.0500</td>\n",
       "      <td>0.0</td>\n",
       "    </tr>\n",
       "    <tr>\n",
       "      <th>...</th>\n",
       "      <td>...</td>\n",
       "      <td>...</td>\n",
       "      <td>...</td>\n",
       "      <td>...</td>\n",
       "      <td>...</td>\n",
       "      <td>...</td>\n",
       "      <td>...</td>\n",
       "      <td>...</td>\n",
       "    </tr>\n",
       "    <tr>\n",
       "      <th>886</th>\n",
       "      <td>0</td>\n",
       "      <td>2</td>\n",
       "      <td>0</td>\n",
       "      <td>27.0</td>\n",
       "      <td>0</td>\n",
       "      <td>0</td>\n",
       "      <td>13.0000</td>\n",
       "      <td>0.0</td>\n",
       "    </tr>\n",
       "    <tr>\n",
       "      <th>887</th>\n",
       "      <td>1</td>\n",
       "      <td>1</td>\n",
       "      <td>1</td>\n",
       "      <td>19.0</td>\n",
       "      <td>0</td>\n",
       "      <td>0</td>\n",
       "      <td>30.0000</td>\n",
       "      <td>0.0</td>\n",
       "    </tr>\n",
       "    <tr>\n",
       "      <th>888</th>\n",
       "      <td>0</td>\n",
       "      <td>3</td>\n",
       "      <td>1</td>\n",
       "      <td>NaN</td>\n",
       "      <td>1</td>\n",
       "      <td>2</td>\n",
       "      <td>23.4500</td>\n",
       "      <td>0.0</td>\n",
       "    </tr>\n",
       "    <tr>\n",
       "      <th>889</th>\n",
       "      <td>1</td>\n",
       "      <td>1</td>\n",
       "      <td>0</td>\n",
       "      <td>26.0</td>\n",
       "      <td>0</td>\n",
       "      <td>0</td>\n",
       "      <td>30.0000</td>\n",
       "      <td>1.0</td>\n",
       "    </tr>\n",
       "    <tr>\n",
       "      <th>890</th>\n",
       "      <td>0</td>\n",
       "      <td>3</td>\n",
       "      <td>0</td>\n",
       "      <td>32.0</td>\n",
       "      <td>0</td>\n",
       "      <td>0</td>\n",
       "      <td>7.7500</td>\n",
       "      <td>2.0</td>\n",
       "    </tr>\n",
       "  </tbody>\n",
       "</table>\n",
       "<p>891 rows × 8 columns</p>\n",
       "</div>"
      ],
      "text/plain": [
       "     Survived  Pclass  Sex   Age  SibSp  Parch     Fare  Embarked\n",
       "0           0       3    0  22.0      1      0   7.2500       0.0\n",
       "1           1       1    1  38.0      1      0  71.2833       1.0\n",
       "2           1       3    1  26.0      0      0   7.9250       0.0\n",
       "3           1       1    1  35.0      1      0  53.1000       0.0\n",
       "4           0       3    0  35.0      0      0   8.0500       0.0\n",
       "..        ...     ...  ...   ...    ...    ...      ...       ...\n",
       "886         0       2    0  27.0      0      0  13.0000       0.0\n",
       "887         1       1    1  19.0      0      0  30.0000       0.0\n",
       "888         0       3    1   NaN      1      2  23.4500       0.0\n",
       "889         1       1    0  26.0      0      0  30.0000       1.0\n",
       "890         0       3    0  32.0      0      0   7.7500       2.0\n",
       "\n",
       "[891 rows x 8 columns]"
      ]
     },
     "execution_count": 89,
     "metadata": {},
     "output_type": "execute_result"
    }
   ],
   "source": [
    "dataset['Sex'].replace(['male', 'female'], [0,1], inplace = True)\n",
    "dataset['Embarked'].replace(['S', 'C', 'Q'], [0,1, 2], inplace = True)\n",
    "dataset"
   ]
  },
  {
   "cell_type": "code",
   "execution_count": 95,
   "metadata": {},
   "outputs": [
    {
     "name": "stdout",
     "output_type": "stream",
     "text": [
      "(623, 7) (268, 7) (623,) (268,)\n"
     ]
    }
   ],
   "source": [
    "# Contains 891 samples(rows) with 5 columns, Split the dataset into Inputs and Output\n",
    "feats = list(dataset)[1:8]\n",
    "target = list(dataset)[0]\n",
    "\n",
    "X = dataset[feats]\n",
    "y = dataset[ target]\n",
    "\n",
    "# Split the data set into training and testing sets\n",
    "X_train, X_test, y_train, y_test = train_test_split(X, y, test_size = 0.3, random_state = 10)\n",
    "\n",
    "print(X_train.shape, X_test.shape, y_train.shape, y_test.shape)"
   ]
  },
  {
   "cell_type": "code",
   "execution_count": 96,
   "metadata": {},
   "outputs": [],
   "source": [
    "dataset.fillna(method = 'bfill', inplace = True)"
   ]
  },
  {
   "cell_type": "code",
   "execution_count": 97,
   "metadata": {},
   "outputs": [
    {
     "data": {
      "text/plain": [
       "Survived      int64\n",
       "Pclass        int64\n",
       "Sex           int64\n",
       "Age         float64\n",
       "SibSp         int64\n",
       "Parch         int64\n",
       "Fare        float64\n",
       "Embarked    float64\n",
       "dtype: object"
      ]
     },
     "execution_count": 97,
     "metadata": {},
     "output_type": "execute_result"
    }
   ],
   "source": [
    "dataset.dtypes"
   ]
  },
  {
   "cell_type": "code",
   "execution_count": 126,
   "metadata": {},
   "outputs": [],
   "source": [
    "model = Sequential()\n",
    "model.add(Dense(32, input_dim = 7, activation = 'relu'))\n",
    "model.add(Dense(16, activation = 'relu'))\n",
    "model.add(Dropout(0.2))\n",
    "model.add(Dense(8, activation = 'relu'))\n",
    "model.add(Dropout(0.2))\n",
    "model.add(Dense(4, activation = 'relu'))\n",
    "model.add(Dropout(0.2))\n",
    "model.add(Dense(1, activation ='sigmoid'))"
   ]
  },
  {
   "cell_type": "code",
   "execution_count": 127,
   "metadata": {},
   "outputs": [
    {
     "name": "stdout",
     "output_type": "stream",
     "text": [
      "Failed to import pydot. You must install pydot and graphviz for `pydotprint` to work.\n"
     ]
    }
   ],
   "source": [
    "plot_model(model, show_shapes = True, show_layer_names = True)"
   ]
  },
  {
   "cell_type": "code",
   "execution_count": 129,
   "metadata": {},
   "outputs": [],
   "source": [
    "model.compile(loss='mse', optimizer = 'sgd', metrics =['accuracy'])\n"
   ]
  },
  {
   "cell_type": "code",
   "execution_count": 133,
   "metadata": {},
   "outputs": [
    {
     "name": "stdout",
     "output_type": "stream",
     "text": [
      "Epoch 1/100\n",
      "20/20 [==============================] - 0s 2ms/step - loss: 0.2099 - accuracy: 0.6677\n",
      "Epoch 2/100\n",
      "20/20 [==============================] - 0s 3ms/step - loss: 0.2150 - accuracy: 0.6469\n",
      "Epoch 3/100\n",
      "20/20 [==============================] - 0s 3ms/step - loss: 0.2072 - accuracy: 0.6693\n",
      "Epoch 4/100\n",
      "20/20 [==============================] - 0s 5ms/step - loss: 0.2073 - accuracy: 0.6629\n",
      "Epoch 5/100\n",
      "20/20 [==============================] - 0s 5ms/step - loss: 0.2092 - accuracy: 0.6581\n",
      "Epoch 6/100\n",
      "20/20 [==============================] - 0s 3ms/step - loss: 0.2151 - accuracy: 0.6565\n",
      "Epoch 7/100\n",
      "20/20 [==============================] - 0s 3ms/step - loss: 0.2156 - accuracy: 0.6726\n",
      "Epoch 8/100\n",
      "20/20 [==============================] - 0s 4ms/step - loss: 0.2134 - accuracy: 0.6356\n",
      "Epoch 9/100\n",
      "20/20 [==============================] - 0s 3ms/step - loss: 0.2140 - accuracy: 0.6517\n",
      "Epoch 10/100\n",
      "20/20 [==============================] - 0s 2ms/step - loss: 0.2096 - accuracy: 0.6645\n",
      "Epoch 11/100\n",
      "20/20 [==============================] - 0s 4ms/step - loss: 0.2137 - accuracy: 0.6533\n",
      "Epoch 12/100\n",
      "20/20 [==============================] - 0s 4ms/step - loss: 0.2145 - accuracy: 0.6421\n",
      "Epoch 13/100\n",
      "20/20 [==============================] - 0s 3ms/step - loss: 0.2093 - accuracy: 0.6790\n",
      "Epoch 14/100\n",
      "20/20 [==============================] - 0s 6ms/step - loss: 0.2058 - accuracy: 0.6693\n",
      "Epoch 15/100\n",
      "20/20 [==============================] - 0s 5ms/step - loss: 0.2164 - accuracy: 0.6661\n",
      "Epoch 16/100\n",
      "20/20 [==============================] - 0s 5ms/step - loss: 0.2018 - accuracy: 0.6726\n",
      "Epoch 17/100\n",
      "20/20 [==============================] - 0s 3ms/step - loss: 0.2104 - accuracy: 0.6661\n",
      "Epoch 18/100\n",
      "20/20 [==============================] - 0s 3ms/step - loss: 0.2076 - accuracy: 0.6581\n",
      "Epoch 19/100\n",
      "20/20 [==============================] - 0s 2ms/step - loss: 0.2133 - accuracy: 0.6661\n",
      "Epoch 20/100\n",
      "20/20 [==============================] - 0s 4ms/step - loss: 0.2105 - accuracy: 0.6629\n",
      "Epoch 21/100\n",
      "20/20 [==============================] - 0s 4ms/step - loss: 0.2078 - accuracy: 0.6918\n",
      "Epoch 22/100\n",
      "20/20 [==============================] - 0s 3ms/step - loss: 0.2086 - accuracy: 0.6645\n",
      "Epoch 23/100\n",
      "20/20 [==============================] - 0s 3ms/step - loss: 0.2065 - accuracy: 0.6693\n",
      "Epoch 24/100\n",
      "20/20 [==============================] - 0s 3ms/step - loss: 0.2106 - accuracy: 0.6709\n",
      "Epoch 25/100\n",
      "20/20 [==============================] - 0s 4ms/step - loss: 0.2120 - accuracy: 0.6517\n",
      "Epoch 26/100\n",
      "20/20 [==============================] - 0s 3ms/step - loss: 0.2071 - accuracy: 0.6629\n",
      "Epoch 27/100\n",
      "20/20 [==============================] - 0s 4ms/step - loss: 0.2099 - accuracy: 0.6597\n",
      "Epoch 28/100\n",
      "20/20 [==============================] - 0s 4ms/step - loss: 0.2118 - accuracy: 0.6870\n",
      "Epoch 29/100\n",
      "20/20 [==============================] - 0s 4ms/step - loss: 0.2098 - accuracy: 0.6549\n",
      "Epoch 30/100\n",
      "20/20 [==============================] - 0s 4ms/step - loss: 0.2110 - accuracy: 0.6629: 0s - loss: 0.2055 - accuracy: 0.67\n",
      "Epoch 31/100\n",
      "20/20 [==============================] - 0s 4ms/step - loss: 0.2104 - accuracy: 0.6469\n",
      "Epoch 32/100\n",
      "20/20 [==============================] - 0s 4ms/step - loss: 0.2010 - accuracy: 0.6870\n",
      "Epoch 33/100\n",
      "20/20 [==============================] - 0s 3ms/step - loss: 0.2075 - accuracy: 0.6790\n",
      "Epoch 34/100\n",
      "20/20 [==============================] - 0s 7ms/step - loss: 0.2045 - accuracy: 0.6854\n",
      "Epoch 35/100\n",
      "20/20 [==============================] - 0s 8ms/step - loss: 0.2100 - accuracy: 0.6726\n",
      "Epoch 36/100\n",
      "20/20 [==============================] - ETA: 0s - loss: 0.2055 - accuracy: 0.66 - 0s 7ms/step - loss: 0.2068 - accuracy: 0.6677\n",
      "Epoch 37/100\n",
      "20/20 [==============================] - 0s 10ms/step - loss: 0.2091 - accuracy: 0.6613\n",
      "Epoch 38/100\n",
      "20/20 [==============================] - 0s 8ms/step - loss: 0.2088 - accuracy: 0.6533\n",
      "Epoch 39/100\n",
      "20/20 [==============================] - 0s 9ms/step - loss: 0.2105 - accuracy: 0.6758\n",
      "Epoch 40/100\n",
      "20/20 [==============================] - 0s 7ms/step - loss: 0.2049 - accuracy: 0.6645\n",
      "Epoch 41/100\n",
      "20/20 [==============================] - 0s 11ms/step - loss: 0.2076 - accuracy: 0.6758\n",
      "Epoch 42/100\n",
      "20/20 [==============================] - 0s 7ms/step - loss: 0.2079 - accuracy: 0.6709\n",
      "Epoch 43/100\n",
      "20/20 [==============================] - 0s 8ms/step - loss: 0.2104 - accuracy: 0.6838\n",
      "Epoch 44/100\n",
      "20/20 [==============================] - 0s 9ms/step - loss: 0.2027 - accuracy: 0.6726\n",
      "Epoch 45/100\n",
      "20/20 [==============================] - 0s 9ms/step - loss: 0.2019 - accuracy: 0.6966\n",
      "Epoch 46/100\n",
      "20/20 [==============================] - 0s 11ms/step - loss: 0.2023 - accuracy: 0.6774\n",
      "Epoch 47/100\n",
      "20/20 [==============================] - 0s 11ms/step - loss: 0.2023 - accuracy: 0.6774 0s - loss: 0.2048 - accuracy: 0.67\n",
      "Epoch 48/100\n",
      "20/20 [==============================] - 0s 12ms/step - loss: 0.2091 - accuracy: 0.6742 0s - loss: 0.1981 - accuracy: 0.\n",
      "Epoch 49/100\n",
      "20/20 [==============================] - 0s 11ms/step - loss: 0.2077 - accuracy: 0.6742\n",
      "Epoch 50/100\n",
      "20/20 [==============================] - 0s 7ms/step - loss: 0.2002 - accuracy: 0.6709\n",
      "Epoch 51/100\n",
      "20/20 [==============================] - 0s 12ms/step - loss: 0.2063 - accuracy: 0.6950 0s - loss: 0.2071 - accuracy: 0.\n",
      "Epoch 52/100\n",
      "20/20 [==============================] - 0s 10ms/step - loss: 0.2059 - accuracy: 0.6774\n",
      "Epoch 53/100\n",
      "20/20 [==============================] - 0s 8ms/step - loss: 0.2055 - accuracy: 0.6854\n",
      "Epoch 54/100\n",
      "20/20 [==============================] - 0s 15ms/step - loss: 0.2048 - accuracy: 0.6950\n",
      "Epoch 55/100\n",
      "20/20 [==============================] - 0s 12ms/step - loss: 0.2054 - accuracy: 0.6693\n",
      "Epoch 56/100\n",
      "20/20 [==============================] - 0s 9ms/step - loss: 0.2057 - accuracy: 0.6677\n",
      "Epoch 57/100\n",
      "20/20 [==============================] - 0s 8ms/step - loss: 0.2113 - accuracy: 0.6565\n",
      "Epoch 58/100\n",
      "20/20 [==============================] - 0s 7ms/step - loss: 0.1976 - accuracy: 0.6934\n",
      "Epoch 59/100\n",
      "20/20 [==============================] - 0s 6ms/step - loss: 0.2100 - accuracy: 0.6934\n",
      "Epoch 60/100\n",
      "20/20 [==============================] - 0s 8ms/step - loss: 0.2033 - accuracy: 0.6806\n",
      "Epoch 61/100\n",
      "20/20 [==============================] - 0s 6ms/step - loss: 0.1999 - accuracy: 0.7047\n",
      "Epoch 62/100\n",
      "20/20 [==============================] - 0s 6ms/step - loss: 0.2026 - accuracy: 0.7014\n",
      "Epoch 63/100\n",
      "20/20 [==============================] - 0s 10ms/step - loss: 0.2014 - accuracy: 0.6886\n",
      "Epoch 64/100\n",
      "20/20 [==============================] - 0s 8ms/step - loss: 0.2000 - accuracy: 0.6934\n",
      "Epoch 65/100\n",
      "20/20 [==============================] - 0s 12ms/step - loss: 0.2062 - accuracy: 0.6854\n",
      "Epoch 66/100\n",
      "20/20 [==============================] - 0s 12ms/step - loss: 0.2038 - accuracy: 0.6854\n",
      "Epoch 67/100\n",
      "20/20 [==============================] - 0s 8ms/step - loss: 0.2054 - accuracy: 0.6902\n",
      "Epoch 68/100\n",
      "20/20 [==============================] - 0s 8ms/step - loss: 0.2032 - accuracy: 0.6774\n",
      "Epoch 69/100\n",
      "20/20 [==============================] - 0s 7ms/step - loss: 0.2002 - accuracy: 0.6790\n",
      "Epoch 70/100\n",
      "20/20 [==============================] - ETA: 0s - loss: 0.2154 - accuracy: 0.66 - 0s 11ms/step - loss: 0.2105 - accuracy: 0.6758\n",
      "Epoch 71/100\n",
      "20/20 [==============================] - 0s 7ms/step - loss: 0.2040 - accuracy: 0.6822\n",
      "Epoch 72/100\n",
      "20/20 [==============================] - 0s 9ms/step - loss: 0.2015 - accuracy: 0.6677\n",
      "Epoch 73/100\n",
      "20/20 [==============================] - 0s 7ms/step - loss: 0.2042 - accuracy: 0.6693\n",
      "Epoch 74/100\n",
      "20/20 [==============================] - 0s 10ms/step - loss: 0.2015 - accuracy: 0.6822\n",
      "Epoch 75/100\n",
      "20/20 [==============================] - 0s 10ms/step - loss: 0.2043 - accuracy: 0.6790\n",
      "Epoch 76/100\n",
      "20/20 [==============================] - 0s 8ms/step - loss: 0.2047 - accuracy: 0.6726\n",
      "Epoch 77/100\n",
      "20/20 [==============================] - 0s 7ms/step - loss: 0.1986 - accuracy: 0.6790\n",
      "Epoch 78/100\n",
      "20/20 [==============================] - 0s 9ms/step - loss: 0.1966 - accuracy: 0.7095: 0s - loss: 0.2073 - accuracy: \n",
      "Epoch 79/100\n",
      "20/20 [==============================] - ETA: 0s - loss: 0.1979 - accuracy: 0.68 - 0s 8ms/step - loss: 0.2023 - accuracy: 0.6758\n",
      "Epoch 80/100\n",
      "20/20 [==============================] - 0s 11ms/step - loss: 0.1978 - accuracy: 0.6838\n",
      "Epoch 81/100\n",
      "20/20 [==============================] - 0s 8ms/step - loss: 0.1986 - accuracy: 0.7047\n",
      "Epoch 82/100\n",
      "20/20 [==============================] - 0s 7ms/step - loss: 0.1925 - accuracy: 0.7159\n",
      "Epoch 83/100\n",
      "20/20 [==============================] - ETA: 0s - loss: 0.2052 - accuracy: 0.68 - 0s 9ms/step - loss: 0.2052 - accuracy: 0.6854\n",
      "Epoch 84/100\n",
      "20/20 [==============================] - 0s 7ms/step - loss: 0.2026 - accuracy: 0.6709\n",
      "Epoch 85/100\n",
      "20/20 [==============================] - 0s 9ms/step - loss: 0.2045 - accuracy: 0.6934\n",
      "Epoch 86/100\n",
      "20/20 [==============================] - 0s 7ms/step - loss: 0.1985 - accuracy: 0.6742\n",
      "Epoch 87/100\n",
      "20/20 [==============================] - 0s 6ms/step - loss: 0.1943 - accuracy: 0.7111\n",
      "Epoch 88/100\n",
      "20/20 [==============================] - 0s 9ms/step - loss: 0.1988 - accuracy: 0.6886\n",
      "Epoch 89/100\n",
      "20/20 [==============================] - 0s 7ms/step - loss: 0.2036 - accuracy: 0.6950\n",
      "Epoch 90/100\n",
      "20/20 [==============================] - 0s 6ms/step - loss: 0.2038 - accuracy: 0.6838\n",
      "Epoch 91/100\n",
      "20/20 [==============================] - 0s 4ms/step - loss: 0.1950 - accuracy: 0.7111\n",
      "Epoch 92/100\n",
      "20/20 [==============================] - 0s 8ms/step - loss: 0.1987 - accuracy: 0.7175\n",
      "Epoch 93/100\n",
      "20/20 [==============================] - 0s 8ms/step - loss: 0.2017 - accuracy: 0.6693\n",
      "Epoch 94/100\n",
      "20/20 [==============================] - 0s 11ms/step - loss: 0.1979 - accuracy: 0.6806\n",
      "Epoch 95/100\n",
      "20/20 [==============================] - 0s 11ms/step - loss: 0.1951 - accuracy: 0.6726 0s - loss: 0.2040 - accuracy: 0.\n",
      "Epoch 96/100\n",
      "20/20 [==============================] - 0s 7ms/step - loss: 0.1988 - accuracy: 0.6902\n",
      "Epoch 97/100\n",
      "20/20 [==============================] - 0s 7ms/step - loss: 0.2002 - accuracy: 0.6982\n",
      "Epoch 98/100\n",
      "20/20 [==============================] - 0s 6ms/step - loss: 0.1978 - accuracy: 0.6950\n",
      "Epoch 99/100\n",
      "20/20 [==============================] - 0s 7ms/step - loss: 0.1978 - accuracy: 0.6918\n",
      "Epoch 100/100\n",
      "20/20 [==============================] - 0s 5ms/step - loss: 0.1997 - accuracy: 0.6918\n"
     ]
    }
   ],
   "source": [
    "mod = model.fit(X_train, y_train, epochs = 100)"
   ]
  },
  {
   "cell_type": "markdown",
   "metadata": {},
   "source": [
    "### Gathering the Data \n",
    "\n",
    "`keras` has a handy method to pull the mnist dataset for you. You'll notice that each observation is a 28x28 arrary which represents an image. Although most Neural Network frameworks can handle higher dimensional data, that is more overhead than necessary for us. We need to flatten the image to one long row which will be 784 values (28X28). Basically, you will be appending each row to one another to make on really long row. "
   ]
  },
  {
   "cell_type": "code",
   "execution_count": 104,
   "metadata": {},
   "outputs": [],
   "source": [
    "import numpy as np\n",
    "from tensorflow.keras.datasets import mnist\n",
    "from tensorflow.keras.utils import to_categorical"
   ]
  },
  {
   "cell_type": "code",
   "execution_count": null,
   "metadata": {},
   "outputs": [],
   "source": [
    "# input image dimensions\n",
    "img_rows, img_cols = 28, 28"
   ]
  },
  {
   "cell_type": "code",
   "execution_count": 3,
   "metadata": {},
   "outputs": [],
   "source": [
    "# the data, split between train and test sets\n",
    "(x_train, y_train), (x_test, y_test) = mnist.load_data()"
   ]
  },
  {
   "cell_type": "code",
   "execution_count": 32,
   "metadata": {},
   "outputs": [],
   "source": [
    "x_train = x_train.reshape(x_train.shape[0], img_rows * img_cols)\n",
    "x_test = x_test.reshape(x_test.shape[0], img_rows * img_cols)\n",
    "\n",
    "# Normalize Our Data\n",
    "x_train = x_train / 255\n",
    "x_test = x_test / 255"
   ]
  },
  {
   "cell_type": "code",
   "execution_count": 4,
   "metadata": {},
   "outputs": [
    {
     "data": {
      "text/plain": [
       "(60000, 28, 28)"
      ]
     },
     "execution_count": 4,
     "metadata": {},
     "output_type": "execute_result"
    }
   ],
   "source": [
    "# Now the data should be in a format you're more familiar with\n",
    "x_train.shape"
   ]
  },
  {
   "cell_type": "markdown",
   "metadata": {},
   "source": [
    "### Making MNIST a Binary Problem \n",
    "MNIST is multiclass classification problem; however we haven't covered all the necessary techniques to handle this yet. You would need to one-hot encode the target, use a different loss metric, and use softmax activations for the last layer. This is all stuff we'll cover later this week, but let us simplify the problem for now: Zero or all else."
   ]
  },
  {
   "cell_type": "code",
   "execution_count": 5,
   "metadata": {},
   "outputs": [],
   "source": [
    "import numpy as np\n",
    "\n",
    "y_temp = np.zeros(y_train.shape)\n",
    "y_temp[np.where(y_train == 0.0)[0]] = 1\n",
    "y_train = y_temp\n",
    "\n",
    "y_temp = np.zeros(y_test.shape)\n",
    "y_temp[np.where(y_test == 0.0)[0]] = 1\n",
    "y_test = y_temp"
   ]
  },
  {
   "cell_type": "code",
   "execution_count": 6,
   "metadata": {},
   "outputs": [
    {
     "data": {
      "text/plain": [
       "array([0., 1., 0., ..., 0., 0., 0.])"
      ]
     },
     "execution_count": 6,
     "metadata": {},
     "output_type": "execute_result"
    }
   ],
   "source": [
    "# A Nice Binary target for ya to work with\n",
    "y_train"
   ]
  },
  {
   "cell_type": "markdown",
   "metadata": {},
   "source": [
    "### Estimating Your `net"
   ]
  },
  {
   "cell_type": "code",
   "execution_count": null,
   "metadata": {
    "colab": {},
    "colab_type": "code",
    "id": "5MOPtYdk1HgA"
   },
   "outputs": [],
   "source": [
    "##### Your Code Here #####\n",
    "\n"
   ]
  },
  {
   "cell_type": "markdown",
   "metadata": {
    "colab_type": "text",
    "id": "FwlRJSfBlCvy"
   },
   "source": [
    "## Stretch Goals: \n",
    "\n",
    "- Make MNIST a multiclass problem using cross entropy & soft-max\n",
    "- Implement Cross Validation model evaluation on your MNIST implementation \n",
    "- Research different [Gradient Descent Based Optimizers](https://keras.io/optimizers/)\n",
    " - [Siraj Raval the evolution of gradient descent](https://www.youtube.com/watch?v=nhqo0u1a6fw)\n",
    "- Build a housing price estimation model using a neural network. How does its accuracy compare with the regression models that we fit earlier on in class?"
   ]
  }
 ],
 "metadata": {
  "colab": {
   "name": "LS_DS_432_Backprop_Assignment.ipynb",
   "provenance": [],
   "version": "0.3.2"
  },
  "kernelspec": {
   "display_name": "U4S12-NLP (Python3)",
   "language": "python",
   "name": "u4s12-nlp"
  },
  "language_info": {
   "codemirror_mode": {
    "name": "ipython",
    "version": 3
   },
   "file_extension": ".py",
   "mimetype": "text/x-python",
   "name": "python",
   "nbconvert_exporter": "python",
   "pygments_lexer": "ipython3",
   "version": "3.7.0"
  },
  "nteract": {
   "version": "0.22.4"
  }
 },
 "nbformat": 4,
 "nbformat_minor": 4
}
