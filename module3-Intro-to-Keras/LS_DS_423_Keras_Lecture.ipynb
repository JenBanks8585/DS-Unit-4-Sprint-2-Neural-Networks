{
 "cells": [
  {
   "cell_type": "markdown",
   "metadata": {
    "colab_type": "text",
    "id": "HJzTIkYAsLxw"
   },
   "source": [
    "Lambda School Data Science\n",
    "\n",
    "*Unit 4, Sprint 2, Module 3*\n",
    "\n",
    "---"
   ]
  },
  {
   "cell_type": "markdown",
   "metadata": {
    "colab_type": "text",
    "id": "HJzTIkYAsLxw"
   },
   "source": [
    "# Neural Network Frameworks (Prepare)"
   ]
  },
  {
   "cell_type": "markdown",
   "metadata": {
    "colab_type": "text",
    "id": "HJzTIkYAsLxw"
   },
   "source": [
    "## Learning Objectives\n",
    "* <a href=\"#p1\">Part 1</a>: Learn How to Select Model Architecture \n",
    "* <a href=\"#p2\">Part 2</a>: Discuss the trade-off between various activation functions\n",
    "* <a href=\"#p3\">Part 3</a>: Regularization Strategies\n",
    "\n",
    "## Lets Use Libraries!\n",
    "\n",
    "The objective of the last two days has been to familiarize you with the fundamentals of neural networks: terminology, structure of networks, forward propagation, error/cost functions, backpropagation, epochs, and gradient descent. We have tried to reinforce these topics by requiring to you code some of the simplest neural networks by hand including Perceptrons (single node neural networks) and Multi-Layer Perceptrons also known as Feed-Forward Neural Networks. Continuing to do things by hand would not be the best use of our limited time. You're ready to graduate from doing things by hand and start using some powerful libraries to build cutting-edge predictive models. "
   ]
  },
  {
   "cell_type": "markdown",
   "metadata": {
    "colab_type": "text",
    "id": "ueDVpctAzvy8"
   },
   "source": [
    "# Choosing Architecture (Learn)"
   ]
  },
  {
   "cell_type": "markdown",
   "metadata": {},
   "source": [
    "## Overview\n",
    "\n",
    "Choosing an architecture for a neural network is almost more an art than a science. The best way to choose an architecture is through research and experimentation. \n",
    "\n",
    "Let's do a few experiments, and track our results using a tool called TensorBoard which is a way to interactively visualize the results of our various experiences. Here is our previous model with TensorBoard incorporated: "
   ]
  },
  {
   "cell_type": "code",
   "execution_count": 1,
   "metadata": {},
   "outputs": [
    {
     "data": {
      "text/plain": [
       "'C:\\\\Users\\\\J8015\\\\Desktop\\\\DS-Unit-4-Sprint-2-Neural-Networks\\\\module3-Intro-to-Keras'"
      ]
     },
     "execution_count": 1,
     "metadata": {},
     "output_type": "execute_result"
    }
   ],
   "source": [
    "%pwd"
   ]
  },
  {
   "cell_type": "code",
   "execution_count": 2,
   "metadata": {},
   "outputs": [],
   "source": [
    "from tensorflow.keras.datasets import mnist\n",
    "\n",
    "(X_train, y_train), (X_test, y_test) = mnist.load_data()"
   ]
  },
  {
   "cell_type": "code",
   "execution_count": 6,
   "metadata": {},
   "outputs": [],
   "source": [
    "%load_ext tensorboard\n",
    "\n",
    "import os\n",
    "import datetime\n",
    "import tensorflow as tf\n",
    "\n",
    "logdir = os.path.join(\"logs\", datetime.datetime.now().strftime(\"%Y%m%d-%H%M%S\"))\n",
    "tensorboard_callback = tf.keras.callbacks.TensorBoard(logdir, histogram_freq=1)"
   ]
  },
  {
   "cell_type": "code",
   "execution_count": 7,
   "metadata": {},
   "outputs": [
    {
     "name": "stdout",
     "output_type": "stream",
     "text": [
      "Epoch 1/5\n",
      "   2/1875 [..............................] - ETA: 25:09 - loss: 142.8541 - accuracy: 0.1094WARNING:tensorflow:Method (on_train_batch_end) is slow compared to the batch update (1.762672). Check your callbacks.\n",
      "WARNING:tensorflow:Method (on_train_batch_end) is slow compared to the batch update (1.502357). Check your callbacks.\n",
      "WARNING:tensorflow:Method (on_train_batch_end) is slow compared to the batch update (0.751178). Check your callbacks.\n",
      "1875/1875 [==============================] - 27s 14ms/step - loss: 9.6294 - accuracy: 0.8406 - val_loss: 7.5413 - val_accuracy: 0.8602\n",
      "Epoch 2/5\n",
      "1875/1875 [==============================] - 20s 11ms/step - loss: 6.0314 - accuracy: 0.8786 - val_loss: 6.0289 - val_accuracy: 0.8819\n",
      "Epoch 3/5\n",
      "1875/1875 [==============================] - 17s 9ms/step - loss: 5.8063 - accuracy: 0.8814 - val_loss: 5.7438 - val_accuracy: 0.8872accuracy: \n",
      "Epoch 4/5\n",
      "1875/1875 [==============================] - 20s 11ms/step - loss: 5.5166 - accuracy: 0.8852 - val_loss: 5.3533 - val_accuracy: 0.8919\n",
      "Epoch 5/5\n",
      "1875/1875 [==============================] - 10s 5ms/step - loss: 5.3174 - accuracy: 0.8878 - val_loss: 5.7297 - val_accuracy: 0.8819\n"
     ]
    },
    {
     "data": {
      "text/plain": [
       "<tensorflow.python.keras.callbacks.History at 0x21be6160f28>"
      ]
     },
     "execution_count": 7,
     "metadata": {},
     "output_type": "execute_result"
    }
   ],
   "source": [
    "from tensorflow.keras.models import Sequential\n",
    "from tensorflow.keras.layers import Flatten, Dense\n",
    "\n",
    "model = Sequential([\n",
    "    Flatten(input_shape = (28,28)),\n",
    "    Dense(10, input_dim=784, activation=\"softmax\")\n",
    "])\n",
    "\n",
    "model.compile(loss='sparse_categorical_crossentropy', optimizer='adam', metrics=['accuracy'])\n",
    "\n",
    "model.fit(x=X_train, \n",
    "        y=y_train, \n",
    "        epochs=5, \n",
    "        validation_data=(X_test, y_test), \n",
    "        callbacks=[tensorboard_callback])"
   ]
  },
  {
   "cell_type": "code",
   "execution_count": null,
   "metadata": {},
   "outputs": [],
   "source": [
    "%tensorboard --logdir logs"
   ]
  },
  {
   "cell_type": "markdown",
   "metadata": {},
   "source": [
    "### Additional Hidden Layer"
   ]
  },
  {
   "cell_type": "code",
   "execution_count": 9,
   "metadata": {},
   "outputs": [
    {
     "name": "stdout",
     "output_type": "stream",
     "text": [
      "Epoch 1/15\n",
      "   2/1875 [..............................] - ETA: 53:25 - loss: 2.5811 - accuracy: 0.1562WARNING:tensorflow:Method (on_train_batch_end) is slow compared to the batch update (1.729305). Check your callbacks.\n",
      "1875/1875 [==============================] - 29s 15ms/step - loss: 1.0757 - accuracy: 0.7146 - val_loss: 0.6786 - val_accuracy: 0.8174728 - accuracy - ETA: 5s - - ETA: 1s - loss: 1.1075  - ETA: 0s - loss: 1.090\n",
      "Epoch 2/15\n",
      "1875/1875 [==============================] - 11s 6ms/step - loss: 0.6461 - accuracy: 0.8146 - val_loss: 0.5936 - val_accuracy: 0.8274\n",
      "Epoch 3/15\n",
      "1875/1875 [==============================] - 20s 11ms/step - loss: 0.5488 - accuracy: 0.8359 - val_loss: 0.5208 - val_accuracy: 0.8515- accura\n",
      "Epoch 4/15\n",
      "1875/1875 [==============================] - 22s 12ms/step - loss: 0.5207 - accuracy: 0.8450 - val_loss: 0.4879 - val_accuracy: 0.8577\n",
      "Epoch 5/15\n",
      "1875/1875 [==============================] - 26s 14ms/step - loss: 0.5066 - accuracy: 0.8448 - val_loss: 0.4767 - val_accuracy: 0.8674\n",
      "Epoch 6/15\n",
      "1875/1875 [==============================] - 21s 11ms/step - loss: 0.4853 - accuracy: 0.8536 - val_loss: 0.4304 - val_accuracy: 0.8786\n",
      "Epoch 7/15\n",
      "1875/1875 [==============================] - 23s 12ms/step - loss: 0.4584 - accuracy: 0.8628 - val_loss: 0.4419 - val_accuracy: 0.8664\n",
      "Epoch 8/15\n",
      "1875/1875 [==============================] - 23s 12ms/step - loss: 0.4632 - accuracy: 0.8612 - val_loss: 0.4239 - val_accuracy: 0.8802\n",
      "Epoch 9/15\n",
      "1875/1875 [==============================] - 22s 12ms/step - loss: 0.4305 - accuracy: 0.8722 - val_loss: 0.4488 - val_accuracy: 0.8577\n",
      "Epoch 10/15\n",
      "1875/1875 [==============================] - 23s 12ms/step - loss: 0.4425 - accuracy: 0.8657 - val_loss: 0.4544 - val_accuracy: 0.8544\n",
      "Epoch 11/15\n",
      "1875/1875 [==============================] - 21s 11ms/step - loss: 0.4473 - accuracy: 0.8644 - val_loss: 0.4845 - val_accuracy: 0.8524\n",
      "Epoch 12/15\n",
      "1875/1875 [==============================] - 20s 10ms/step - loss: 0.4293 - accuracy: 0.8682 - val_loss: 0.3870 - val_accuracy: 0.8896\n",
      "Epoch 13/15\n",
      "1875/1875 [==============================] - 23s 13ms/step - loss: 0.4261 - accuracy: 0.8729 - val_loss: 0.4114 - val_accuracy: 0.8833\n",
      "Epoch 14/15\n",
      "1875/1875 [==============================] - 21s 11ms/step - loss: 0.4125 - accuracy: 0.8785 - val_loss: 0.4012 - val_accuracy: 0.8803\n",
      "Epoch 15/15\n",
      "1875/1875 [==============================] - 22s 12ms/step - loss: 0.3964 - accuracy: 0.8848 - val_loss: 0.3948 - val_accuracy: 0.8905\n"
     ]
    },
    {
     "data": {
      "text/plain": [
       "<tensorflow.python.keras.callbacks.History at 0x21beac20898>"
      ]
     },
     "execution_count": 9,
     "metadata": {},
     "output_type": "execute_result"
    }
   ],
   "source": [
    "logdir = os.path.join(\"logs\", '1 Hidden Layers')\n",
    "tensorboard_callback = tf.keras.callbacks.TensorBoard(logdir, histogram_freq=1)\n",
    "\n",
    "from tensorflow.keras.models import Sequential\n",
    "from tensorflow.keras.layers import Flatten, Dense\n",
    "\n",
    "model = Sequential([\n",
    "    Flatten(input_shape = (28,28)),\n",
    "    Dense(15, input_dim=784, activation=\"sigmoid\"),\n",
    "    Dense(10, activation=\"softmax\")\n",
    "])\n",
    "\n",
    "model.compile(loss='sparse_categorical_crossentropy', optimizer='adam', metrics=['accuracy'])\n",
    "\n",
    "model.fit(x=X_train, \n",
    "        y=y_train, \n",
    "        epochs=15, \n",
    "        validation_data=(X_test, y_test), \n",
    "        callbacks=[tensorboard_callback])"
   ]
  },
  {
   "cell_type": "code",
   "execution_count": null,
   "metadata": {},
   "outputs": [],
   "source": [
    "%tensorboard --logdir logs"
   ]
  },
  {
   "cell_type": "markdown",
   "metadata": {},
   "source": [
    "### 2 Additional Hidden Layers"
   ]
  },
  {
   "cell_type": "code",
   "execution_count": 10,
   "metadata": {},
   "outputs": [
    {
     "name": "stdout",
     "output_type": "stream",
     "text": [
      "Epoch 1/15\n",
      "   2/1875 [..............................] - ETA: 22:29 - loss: 2.4562 - accuracy: 0.0938WARNING:tensorflow:Method (on_train_batch_end) is slow compared to the batch update (0.732324). Check your callbacks.\n",
      "1875/1875 [==============================] - 26s 14ms/step - loss: 0.5370 - accuracy: 0.8541 - val_loss: 0.3788 - val_accuracy: 0.8793\n",
      "Epoch 2/15\n",
      "1875/1875 [==============================] - 30s 16ms/step - loss: 0.3562 - accuracy: 0.8910 - val_loss: 0.3394 - val_accuracy: 0.8940 ETA: 0s - loss: 0.3562 - accuracy: \n",
      "Epoch 3/15\n",
      "1875/1875 [==============================] - 25s 14ms/step - loss: 0.3156 - accuracy: 0.9032 - val_loss: 0.2865 - val_accuracy: 0.9134\n",
      "Epoch 4/15\n",
      "1875/1875 [==============================] - 27s 15ms/step - loss: 0.2929 - accuracy: 0.9100 - val_loss: 0.2798 - val_accuracy: 0.9121 - loss: 0.2934 \n",
      "Epoch 5/15\n",
      "1875/1875 [==============================] - 26s 14ms/step - loss: 0.2726 - accuracy: 0.9164 - val_loss: 0.2578 - val_accuracy: 0.9224\n",
      "Epoch 6/15\n",
      "1875/1875 [==============================] - 41s 22ms/step - loss: 0.2477 - accuracy: 0.9229 - val_loss: 0.2463 - val_accuracy: 0.9206\n",
      "Epoch 7/15\n",
      "1875/1875 [==============================] - 49s 26ms/step - loss: 0.2516 - accuracy: 0.9207 - val_loss: 0.2379 - val_accuracy: 0.9259\n",
      "Epoch 8/15\n",
      "1875/1875 [==============================] - 52s 28ms/step - loss: 0.2342 - accuracy: 0.9271 - val_loss: 0.2478 - val_accuracy: 0.9186s - loss: 0.2401 - accuracy: 0.9 - ETA: 29s  - ETA: 26s - loss: 0.2394 - accura  - ETA: 5s - loss: 0.2336  - E - ETA: 0s - loss: 0 - ETA: 0s - loss: 0.2341 - accuracy: \n",
      "Epoch 9/15\n",
      "   1/1875 [..............................] - ETA: 0s - loss: 0.2318 - accuracy: 0.9375WARNING:tensorflow:Method (on_train_batch_end) is slow compared to the batch update (0.188100). Check your callbacks.\n",
      "   2/1875 [..............................] - ETA: 3:05 - loss: 0.1897 - accuracy: 0.9219WARNING:tensorflow:Method (on_train_batch_end) is slow compared to the batch update (0.100036). Check your callbacks.\n",
      "1875/1875 [==============================] - 30s 16ms/step - loss: 0.2283 - accuracy: 0.9286 - val_loss: 0.2163 - val_accuracy: 0.9319\n",
      "Epoch 10/15\n",
      "1875/1875 [==============================] - 70s 37ms/step - loss: 0.2151 - accuracy: 0.9326 - val_loss: 0.2190 - val_accuracy: 0.9319\n",
      "Epoch 11/15\n",
      "1875/1875 [==============================] - 56s 30ms/step - loss: 0.2048 - accuracy: 0.9359 - val_loss: 0.2130 - val_accuracy: 0.9324 - loss: 0.1927 -  - ETA: 1:20 - loss: 0.2 - ETA: 4s - loss: 0.2038 - accu - ETA: 0s - loss: 0.2047 - accura\n",
      "Epoch 12/15\n",
      "1875/1875 [==============================] - 32s 17ms/step - loss: 0.2033 - accuracy: 0.9370 - val_loss: 0.1993 - val_accuracy: 0.9344\n",
      "Epoch 13/15\n",
      "1875/1875 [==============================] - 24s 13ms/step - loss: 0.1945 - accuracy: 0.9384 - val_loss: 0.2047 - val_accuracy: 0.9353\n",
      "Epoch 14/15\n",
      "1875/1875 [==============================] - 24s 13ms/step - loss: 0.1839 - accuracy: 0.9425 - val_loss: 0.2106 - val_accuracy: 0.9316\n",
      "Epoch 15/15\n",
      "1875/1875 [==============================] - 16s 9ms/step - loss: 0.1865 - accuracy: 0.9410 - val_loss: 0.1914 - val_accuracy: 0.9390\n"
     ]
    },
    {
     "data": {
      "text/plain": [
       "<tensorflow.python.keras.callbacks.History at 0x21bebe2bf60>"
      ]
     },
     "execution_count": 10,
     "metadata": {},
     "output_type": "execute_result"
    }
   ],
   "source": [
    "logdir = os.path.join(\"logs\", '2 Hidden Layers')\n",
    "tensorboard_callback = tf.keras.callbacks.TensorBoard(logdir, histogram_freq=1)\n",
    "\n",
    "from tensorflow.keras.models import Sequential\n",
    "from tensorflow.keras.layers import Flatten, Dense\n",
    "\n",
    "model = Sequential([\n",
    "    Flatten(input_shape = (28,28)),\n",
    "    Dense(128, input_dim=784, activation=\"sigmoid\"),\n",
    "    Dense(128, activation=\"sigmoid\"),\n",
    "    Dense(10,  activation=\"softmax\")\n",
    "])\n",
    "\n",
    "model.compile(loss='sparse_categorical_crossentropy', optimizer='adam', metrics=['accuracy'])\n",
    "\n",
    "model.fit(x=X_train, \n",
    "        y=y_train, \n",
    "        epochs=15, \n",
    "        validation_data=(X_test, y_test), \n",
    "        callbacks=[tensorboard_callback])"
   ]
  },
  {
   "cell_type": "code",
   "execution_count": null,
   "metadata": {},
   "outputs": [],
   "source": [
    "%tensorboard --logdir logs"
   ]
  },
  {
   "cell_type": "markdown",
   "metadata": {},
   "source": [
    "### Different Optimization Feature"
   ]
  },
  {
   "cell_type": "code",
   "execution_count": 12,
   "metadata": {},
   "outputs": [
    {
     "name": "stdout",
     "output_type": "stream",
     "text": [
      "Epoch 1/15\n",
      "   2/1875 [..............................] - ETA: 11:18 - loss: 2.3522 - accuracy: 0.1875WARNING:tensorflow:Method (on_train_batch_end) is slow compared to the batch update (0.371967). Check your callbacks.\n",
      "1875/1875 [==============================] - 28s 15ms/step - loss: 0.5394 - accuracy: 0.8552 - val_loss: 0.3788 - val_accuracy: 0.8839 l - ETA: 0s - loss: 0.5423 \n",
      "Epoch 2/15\n",
      "1875/1875 [==============================] - 33s 17ms/step - loss: 0.3489 - accuracy: 0.8951 - val_loss: 0.3426 - val_accuracy: 0.8987\n",
      "Epoch 3/15\n",
      "1875/1875 [==============================] - 32s 17ms/step - loss: 0.3264 - accuracy: 0.9006 - val_loss: 0.3026 - val_accuracy: 0.9084\n",
      "Epoch 4/15\n",
      "1875/1875 [==============================] - 33s 18ms/step - loss: 0.2943 - accuracy: 0.9094 - val_loss: 0.2947 - val_accuracy: 0.9097\n",
      "Epoch 5/15\n",
      "1875/1875 [==============================] - 32s 17ms/step - loss: 0.2756 - accuracy: 0.9149 - val_loss: 0.2676 - val_accuracy: 0.9162\n",
      "Epoch 6/15\n",
      "1875/1875 [==============================] - 32s 17ms/step - loss: 0.2611 - accuracy: 0.9193 - val_loss: 0.2476 - val_accuracy: 0.92330s - loss: 0.2612 \n",
      "Epoch 7/15\n",
      "1875/1875 [==============================] - 31s 16ms/step - loss: 0.2518 - accuracy: 0.9215 - val_loss: 0.2442 - val_accuracy: 0.9238\n",
      "Epoch 8/15\n",
      "1875/1875 [==============================] - 35s 18ms/step - loss: 0.2422 - accuracy: 0.9237 - val_loss: 0.2490 - val_accuracy: 0.9224accuracy: 0.\n",
      "Epoch 9/15\n",
      "1875/1875 [==============================] - 29s 16ms/step - loss: 0.2369 - accuracy: 0.9260 - val_loss: 0.2212 - val_accuracy: 0.9313\n",
      "Epoch 10/15\n",
      "1875/1875 [==============================] - 32s 17ms/step - loss: 0.2134 - accuracy: 0.9336 - val_loss: 0.2091 - val_accuracy: 0.9354\n",
      "Epoch 11/15\n",
      "1875/1875 [==============================] - 24s 13ms/step - loss: 0.2132 - accuracy: 0.9341 - val_loss: 0.2148 - val_accuracy: 0.9313: \n",
      "Epoch 12/15\n",
      "1875/1875 [==============================] - 24s 13ms/step - loss: 0.2003 - accuracy: 0.9372 - val_loss: 0.2009 - val_accuracy: 0.9390\n",
      "Epoch 13/15\n",
      "1875/1875 [==============================] - 24s 13ms/step - loss: 0.1863 - accuracy: 0.9420 - val_loss: 0.1857 - val_accuracy: 0.9452\n",
      "Epoch 14/15\n",
      "1875/1875 [==============================] - 23s 12ms/step - loss: 0.1809 - accuracy: 0.9440 - val_loss: 0.1964 - val_accuracy: 0.9404\n",
      "Epoch 15/15\n",
      "1875/1875 [==============================] - 24s 13ms/step - loss: 0.1767 - accuracy: 0.9449 - val_loss: 0.1779 - val_accuracy: 0.9442\n"
     ]
    },
    {
     "data": {
      "text/plain": [
       "<tensorflow.python.keras.callbacks.History at 0x21bebf1cc18>"
      ]
     },
     "execution_count": 12,
     "metadata": {},
     "output_type": "execute_result"
    }
   ],
   "source": [
    "logdir = os.path.join(\"logs\", 'Different Optimization Function')\n",
    "tensorboard_callback = tf.keras.callbacks.TensorBoard(logdir, histogram_freq=1)\n",
    "\n",
    "from tensorflow.keras.models import Sequential\n",
    "from tensorflow.keras.layers import Flatten, Dense\n",
    "\n",
    "model = Sequential([\n",
    "    Flatten(input_shape = (28,28)),\n",
    "    Dense(128, input_dim=784, activation=\"sigmoid\"),\n",
    "    Dense(120,  activation=\"sigmoid\"),\n",
    "    Dense(10,  activation=\"softmax\")\n",
    "])\n",
    "\n",
    "model.compile(loss='sparse_categorical_crossentropy', optimizer='nadam', metrics=['accuracy'])\n",
    "\n",
    "model.fit(x=X_train, \n",
    "        y=y_train, \n",
    "        epochs=15, \n",
    "        validation_data=(X_test, y_test), \n",
    "        callbacks=[tensorboard_callback])"
   ]
  },
  {
   "cell_type": "code",
   "execution_count": null,
   "metadata": {},
   "outputs": [],
   "source": [
    "%tensorboard --logdir logs"
   ]
  },
  {
   "cell_type": "markdown",
   "metadata": {},
   "source": [
    "### Different Activation Functions"
   ]
  },
  {
   "cell_type": "code",
   "execution_count": 13,
   "metadata": {},
   "outputs": [
    {
     "name": "stdout",
     "output_type": "stream",
     "text": [
      "Epoch 1/15\n",
      "   2/1875 [..............................] - ETA: 1:01:56 - loss: 1930.5123 - accuracy: 0.0781WARNING:tensorflow:Method (on_train_batch_end) is slow compared to the batch update (1.998239). Check your callbacks.\n",
      "1875/1875 [==============================] - 24s 13ms/step - loss: 1649450.8750 - accuracy: 0.1116 - val_loss: 2.3076 - val_accuracy: 0.1135\n",
      "Epoch 2/15\n",
      "1875/1875 [==============================] - 11s 6ms/step - loss: 2.3012 - accuracy: 0.1124 - val_loss: 2.3075 - val_accuracy: 0.1135\n",
      "Epoch 3/15\n",
      "1875/1875 [==============================] - 10s 6ms/step - loss: 2.3012 - accuracy: 0.1124 - val_loss: 2.3075 - val_accuracy: 0.1135\n",
      "Epoch 4/15\n",
      "1875/1875 [==============================] - 11s 6ms/step - loss: 2.3012 - accuracy: 0.1124 - val_loss: 2.3074 - val_accuracy: 0.1135\n",
      "Epoch 5/15\n",
      "1875/1875 [==============================] - 18s 10ms/step - loss: 2.3012 - accuracy: 0.1124 - val_loss: 2.3075 - val_accuracy: 0.1135\n",
      "Epoch 6/15\n",
      "1875/1875 [==============================] - 19s 10ms/step - loss: 2.3012 - accuracy: 0.1124 - val_loss: 2.3075 - val_accuracy: 0.1135\n",
      "Epoch 7/15\n",
      "1875/1875 [==============================] - 19s 10ms/step - loss: 2.3012 - accuracy: 0.1124 - val_loss: 2.3075 - val_accuracy: 0.1135\n",
      "Epoch 8/15\n",
      "1875/1875 [==============================] - 19s 10ms/step - loss: 2.3012 - accuracy: 0.1124 - val_loss: 2.3075 - val_accuracy: 0.1135\n",
      "Epoch 9/15\n",
      "1875/1875 [==============================] - 19s 10ms/step - loss: 2.3012 - accuracy: 0.1124 - val_loss: 2.3075 - val_accuracy: 0.1135\n",
      "Epoch 10/15\n",
      "1875/1875 [==============================] - 19s 10ms/step - loss: 2.3012 - accuracy: 0.1124 - val_loss: 2.3076 - val_accuracy: 0.1135\n",
      "Epoch 11/15\n",
      "1875/1875 [==============================] - 19s 10ms/step - loss: 2.3012 - accuracy: 0.1124 - val_loss: 2.3075 - val_accuracy: 0.1135\n",
      "Epoch 12/15\n",
      "1875/1875 [==============================] - 19s 10ms/step - loss: 2.3012 - accuracy: 0.1124 - val_loss: 2.3075 - val_accuracy: 0.1135\n",
      "Epoch 13/15\n",
      "1875/1875 [==============================] - 18s 10ms/step - loss: 2.3012 - accuracy: 0.1124 - val_loss: 2.3075 - val_accuracy: 0.1135\n",
      "Epoch 14/15\n",
      "1875/1875 [==============================] - 18s 10ms/step - loss: 2.3012 - accuracy: 0.1124 - val_loss: 2.3075 - val_accuracy: 0.1135\n",
      "Epoch 15/15\n",
      "1875/1875 [==============================] - 18s 10ms/step - loss: 2.3012 - accuracy: 0.1124 - val_loss: 2.3075 - val_accuracy: 0.1135\n"
     ]
    },
    {
     "data": {
      "text/plain": [
       "<tensorflow.python.keras.callbacks.History at 0x21bed040c88>"
      ]
     },
     "execution_count": 13,
     "metadata": {},
     "output_type": "execute_result"
    }
   ],
   "source": [
    "logdir = os.path.join(\"logs\", 'Different Activation Function')\n",
    "tensorboard_callback = tf.keras.callbacks.TensorBoard(logdir, histogram_freq=1)\n",
    "\n",
    "from tensorflow.keras.models import Sequential\n",
    "from tensorflow.keras.layers import Flatten, Dense\n",
    "\n",
    "model = Sequential([\n",
    "    Flatten(input_shape = (28,28)),\n",
    "    Dense(128,  activation=\"sigmoid\"),\n",
    "    Dense(128, activation=\"sigmoid\"),\n",
    "    Dense(10,  activation=\"softmax\")\n",
    "])\n",
    "\n",
    "model.compile(loss='sparse_categorical_crossentropy', optimizer='adam', metrics=['accuracy'])\n",
    "\n",
    "model.fit(x=X_train, \n",
    "        y=y_train, \n",
    "        epochs=15, \n",
    "        validation_data=(X_test, y_test), \n",
    "        callbacks=[tensorboard_callback])"
   ]
  },
  {
   "cell_type": "code",
   "execution_count": null,
   "metadata": {},
   "outputs": [],
   "source": [
    "%tensorboard --logdir logs"
   ]
  },
  {
   "cell_type": "markdown",
   "metadata": {},
   "source": [
    "## Challenge\n",
    "\n",
    "You will have to choose your own architectures in today's module project. In the next module, we will discuss hyperparameter optimization which can help you handle these numerous choices. \n",
    "\n",
    "---"
   ]
  },
  {
   "cell_type": "markdown",
   "metadata": {
    "colab_type": "text",
    "id": "tcjMuxtn6wIQ",
    "toc-hr-collapsed": false
   },
   "source": [
    "# Activation Functions (Learn)"
   ]
  },
  {
   "cell_type": "markdown",
   "metadata": {
    "colab_type": "text",
    "id": "tcjMuxtn6wIQ",
    "toc-hr-collapsed": false
   },
   "source": [
    "## Overview\n",
    "What is an activation function and how does it work?\n",
    "\n",
    "- Takes in a weighted sum of inputs + a bias from the previous layer and outputs an \"activation\" value.\n",
    "- Based its inputs the neuron decides how 'activated' it should be. This can be thought of as the neuron deciding how strongly to fire. You can also think of it as if the neuron is deciding how much of the signal that it has received to pass onto the next layer. \n",
    "- Our choice of activation function does not only affect signal that is passed forward but also affects the backpropagation algorithm. It affects how we update weights in reverse order since activated weight/input sums become the inputs of the next layer. "
   ]
  },
  {
   "cell_type": "markdown",
   "metadata": {
    "toc-hr-collapsed": true
   },
   "source": [
    "## Follow Along"
   ]
  },
  {
   "cell_type": "markdown",
   "metadata": {
    "colab_type": "text",
    "id": "n_b0u8Ch60bA"
   },
   "source": [
    "### Step Function\n",
    "\n",
    "![Heaviside Step Function](https://upload.wikimedia.org/wikipedia/commons/thumb/d/d9/Dirac_distribution_CDF.svg/2560px-Dirac_distribution_CDF.svg.png)\n",
    "\n",
    "All or nothing, a little extreme, which is fine, but makes updating weights through backpropagation impossible. Why? remember that during backpropagation we use derivatives in order to determine how much to update or not update weights. What is the derivative of the step function?"
   ]
  },
  {
   "cell_type": "markdown",
   "metadata": {
    "colab_type": "text",
    "id": "vKR0YhIVEnXZ"
   },
   "source": [
    "### Linear Function\n",
    "\n",
    "![Linear Function](http://www.roconnell.net/Parent%20function/linear.gif)\n",
    "\n",
    "The linear function takes the opposite tact from the step function and passes the signal onto the next layer by a constant factor. There are problems with this but the biggest problems again lie in backpropagation. The derivative of any linear function is a horizontal line which would indicate that we should update all weights by a constant amount every time -which on balance wouldn't change the behavior of our network. Linear functions are typically only used for very simple tasks where interpretability is important, but if interpretability is your highest priority, you probably shouldn't be using neural networks in the first place."
   ]
  },
  {
   "cell_type": "markdown",
   "metadata": {
    "colab_type": "text",
    "id": "JFurIVL6EkQ8"
   },
   "source": [
    "### Sigmoid Function\n",
    "\n",
    "![Sigmoid Function](https://upload.wikimedia.org/wikipedia/commons/thumb/8/88/Logistic-curve.svg/480px-Logistic-curve.svg.png)\n",
    "\n",
    "The sigmoid function works great as an activation function! it's continuously differentiable, its derivative doesn't have a constant slope, and having the higher slope in the middle pushes y value predictions towards extremes which is particularly useful for binary classification problems. I mean, this is why we use it as the squishifier in logistic regression as well. It constrains output, but over repeated epochs pushes predictions towards a strong binary prediction. \n",
    "\n",
    "What's the biggest problem with the sigmoid function? The fact that its slope gets pretty flat so quickly after its departure from zero. This means that updating weights based on its gradient really diminishes the size of our weight updates as our model gets more confident about its classifications. This is why even after so many iterations with our test score example we couldn't reach the levels of fit that our gradient descent based model could reach in just a few epochs."
   ]
  },
  {
   "cell_type": "markdown",
   "metadata": {
    "colab_type": "text",
    "id": "hm6p1HWbEhYi"
   },
   "source": [
    "### Tanh Function\n",
    "\n",
    "![Tanh Function](http://mathworld.wolfram.com/images/interactive/TanhReal.gif)\n",
    "\n",
    "What if the sigmoid function didn't get so flat quite as soon when moving away from zero and was a little bit steeper in the middle? That's basically the Tanh function. The Tanh function can actually be created by scaling the sigmoid function by 2 in the y dimension and subtracting 1 from all values. It has basically the same properties as the sigmoid, still struggles from diminishingly flat gradients as we move away from 0, but its derivative is higher around 0 causing weights to move to the extremes a little faster. "
   ]
  },
  {
   "cell_type": "markdown",
   "metadata": {
    "colab_type": "text",
    "id": "sFOn_L6gEcz1"
   },
   "source": [
    "### ReLU Function\n",
    "\n",
    "![ReLU Function](https://cdn-images-1.medium.com/max/937/1*oePAhrm74RNnNEolprmTaQ.png)\n",
    "\n",
    "ReLU stands for Rectified Linear Units it is by far the most commonly used activation function in modern neural networks. It doesn't activate neurons that are being passed a negative signal and passes on positive signals. Think about why this might be useful. Remember how a lot of our initial weights got set to negative numbers by chance? This would have dealt with those negative weights a lot faster than the sigmoid function updating. What does the derivative of this function look like? It looks like the step function! This means that not all neurons are activated. With sigmoid basically all of our neurons are passing some amount of signal even if it's small making it hard for the network to differentiate important and less important connections. ReLU turns off a portion of our less important neurons which decreases computational load, but also helps the network learn what the most important connections are faster. \n",
    "\n",
    "What's the problem with relu? Well the left half of its derivative function shows that for neurons that are initialized with weights that cause them to have no activation, our gradient will not update those neuron's weights, this can lead to dead neurons that never fire and whose weights never get updated. We would probably want to update the weights of neurons that didn't fire even if it's just by a little bit in case we got unlucky with our initial weights and want to give those neurons a chance of turning back on in the future."
   ]
  },
  {
   "cell_type": "markdown",
   "metadata": {
    "colab_type": "text",
    "id": "XWdvWOBIETwk"
   },
   "source": [
    "### Leaky ReLU\n",
    "\n",
    "![Leaky ReLU](https://cdn-images-1.medium.com/max/1600/1*ypsvQH7kvtI2BhzR2eT_Sw.png)\n",
    "\n",
    "Leaky ReLU accomplishes exactly that! it avoids having a gradient of 0 on the left side of its derivative function. This means that even \"dead\" neurons have a chance of being revived over enough iterations. In some specifications the slope of the leaky left-hand side can also be experimented with as a hyperparameter of the model!"
   ]
  },
  {
   "cell_type": "markdown",
   "metadata": {
    "colab_type": "text",
    "id": "FcAxkNFREMFb"
   },
   "source": [
    "### Softmax Function\n",
    "\n",
    "![Softmax Function](https://cdn-images-1.medium.com/max/800/1*670CdxchunD-yAuUWdI7Bw.png)\n",
    "\n",
    "Like the sigmoid function but more useful for multi-class classification problems. The softmax function can take any set of inputs and translate them into probabilities that sum up to 1. This means that we can throw any list of outputs at it and it will translate them into probabilities, this is extremely useful for multi-class classification problems. Like MNIST for example..."
   ]
  },
  {
   "cell_type": "markdown",
   "metadata": {
    "colab_type": "text",
    "id": "23-XRRXKHs34"
   },
   "source": [
    "### Major takeaways\n",
    "\n",
    "- ReLU is generally better at obtaining the optimal model fit.\n",
    "- Sigmoid and its derivatives are usually better at classification problems.\n",
    "- Softmax for multi-class classification problems. \n",
    "\n",
    "You'll typically see ReLU used for all initial layers and then the final layer being sigmoid or softmax for classification problems. But you can experiment and tune these selections as hyperparameters as well!"
   ]
  },
  {
   "cell_type": "markdown",
   "metadata": {},
   "source": [
    "## Challenge\n",
    "\n",
    "You will apply your choice of activation function inside two Keras Seqeuntial models today. \n",
    "\n",
    "---"
   ]
  },
  {
   "cell_type": "markdown",
   "metadata": {
    "colab_type": "text",
    "id": "TWuoXZCCKCI7"
   },
   "source": [
    "# Regularization Strategies (Learn)"
   ]
  },
  {
   "cell_type": "markdown",
   "metadata": {},
   "source": [
    "## Overview\n",
    "\n",
    "Neural Networks are highly parameterized models and can be easily overfit to the training data. The most salient way to combat this problem is with regularization strategies.  \n",
    "\n",
    "![](https://upload.wikimedia.org/wikipedia/commons/thumb/0/02/Regularization.svg/1920px-Regularization.svg.png)\n",
    "\n",
    "There are four common ways of regularization in neural networks which we cover briefly. Here's a quick summary of how to apply them: \n",
    "\n",
    "1. Always use EarlyStopping. This strategy will prevent your weights from being updated well past the point of their peak usefulness.\n",
    "2. Use EarlyStopping, Weight Decay and Dropout\n",
    "3. Use EarlyStopping, Weight Constraint and Dropout\n",
    "\n",
    "Weight Decay and Weigh Constraint accomplish similar purposes - preventing over fitting the parameters by regularizing the values. The mechanics are just slightly different. That's why you would not necessary want to apply them together."
   ]
  },
  {
   "cell_type": "markdown",
   "metadata": {},
   "source": [
    "## Follow Along"
   ]
  },
  {
   "cell_type": "markdown",
   "metadata": {},
   "source": [
    "### Early Stopping"
   ]
  },
  {
   "cell_type": "code",
   "execution_count": 14,
   "metadata": {},
   "outputs": [
    {
     "name": "stdout",
     "output_type": "stream",
     "text": [
      "Epoch 1/999\n",
      "   2/1875 [..............................] - ETA: 7:37 - loss: 96.7123 - accuracy: 0.1250WARNING:tensorflow:Method (on_train_batch_end) is slow compared to the batch update (0.239957). Check your callbacks.\n",
      "1875/1875 [==============================] - 24s 13ms/step - loss: 1.1059 - accuracy: 0.8781 - val_loss: 0.2794 - val_accuracy: 0.9295\n",
      "Epoch 2/999\n",
      "1875/1875 [==============================] - 19s 10ms/step - loss: 0.2340 - accuracy: 0.9390 - val_loss: 0.2369 - val_accuracy: 0.9388\n",
      "Epoch 3/999\n",
      "1875/1875 [==============================] - 23s 12ms/step - loss: 0.1824 - accuracy: 0.9503 - val_loss: 0.1799 - val_accuracy: 0.9509\n",
      "Epoch 4/999\n",
      "1875/1875 [==============================] - 37s 20ms/step - loss: 0.1461 - accuracy: 0.9588 - val_loss: 0.1555 - val_accuracy: 0.9541\n",
      "Epoch 5/999\n",
      "1875/1875 [==============================] - 34s 18ms/step - loss: 0.1239 - accuracy: 0.9641 - val_loss: 0.1646 - val_accuracy: 0.9556\n",
      "Epoch 6/999\n",
      "1875/1875 [==============================] - 30s 16ms/step - loss: 0.1086 - accuracy: 0.9685 - val_loss: 0.1332 - val_accuracy: 0.9648\n",
      "Epoch 7/999\n",
      "1875/1875 [==============================] - 28s 15ms/step - loss: 0.0914 - accuracy: 0.9737 - val_loss: 0.1381 - val_accuracy: 0.9656\n",
      "Epoch 8/999\n",
      "1875/1875 [==============================] - 29s 16ms/step - loss: 0.0887 - accuracy: 0.9750 - val_loss: 0.1327 - val_accuracy: 0.9665\n",
      "Epoch 9/999\n",
      "1875/1875 [==============================] - 31s 17ms/step - loss: 0.0785 - accuracy: 0.9777 - val_loss: 0.1206 - val_accuracy: 0.9679\n"
     ]
    },
    {
     "data": {
      "text/plain": [
       "<tensorflow.python.keras.callbacks.History at 0x21bee225828>"
      ]
     },
     "execution_count": 14,
     "metadata": {},
     "output_type": "execute_result"
    }
   ],
   "source": [
    "from tensorflow.keras.callbacks import EarlyStopping\n",
    "\n",
    "logdir = os.path.join(\"logs\", 'Early Stopping')\n",
    "tensorboard_callback = tf.keras.callbacks.TensorBoard(logdir, histogram_freq=1)\n",
    "\n",
    "stop = EarlyStopping(monitor='val_accuracy', min_delta=0.01, patience=3)\n",
    "\n",
    "model = Sequential([\n",
    "    Flatten(),\n",
    "    Dense(128, input_dim=784, activation='relu'),\n",
    "    Dense(128, activation='relu'),\n",
    "    Dense(128, activation='relu'),\n",
    "    Dense(10, activation='softmax')\n",
    "])\n",
    "\n",
    "model.compile(loss='sparse_categorical_crossentropy', optimizer='nadam', metrics=['accuracy'])\n",
    "\n",
    "model.fit(X_train, y_train, epochs=999, \n",
    "          validation_data=(X_test,y_test),\n",
    "          callbacks=[tensorboard_callback, stop])"
   ]
  },
  {
   "cell_type": "markdown",
   "metadata": {},
   "source": [
    "### Weight Decay\n",
    "\n",
    "```python\n",
    "Dense(64, input_dim=64,\n",
    "            kernel_regularizer=regularizers.l2(0.01),\n",
    "            activity_regularizer=regularizers.l1(0.01)))\n",
    "```"
   ]
  },
  {
   "cell_type": "code",
   "execution_count": 15,
   "metadata": {},
   "outputs": [
    {
     "name": "stdout",
     "output_type": "stream",
     "text": [
      "Epoch 1/50\n",
      "   2/1875 [..............................] - ETA: 1:00:00 - loss: 62.5039 - accuracy: 0.0938WARNING:tensorflow:Method (on_train_batch_end) is slow compared to the batch update (1.941012). Check your callbacks.\n",
      "1875/1875 [==============================] - 33s 17ms/step - loss: 3.9224 - accuracy: 0.8787 - val_loss: 2.0623 - val_accuracy: 0.9351\n",
      "Epoch 2/50\n",
      "1875/1875 [==============================] - 27s 14ms/step - loss: 1.3182 - accuracy: 0.9432 - val_loss: 0.7798 - val_accuracy: 0.9440\n",
      "Epoch 3/50\n",
      "1875/1875 [==============================] - 34s 18ms/step - loss: 0.5242 - accuracy: 0.9519 - val_loss: 0.3658 - val_accuracy: 0.9575\n",
      "Epoch 4/50\n",
      "1875/1875 [==============================] - 35s 18ms/step - loss: 0.3483 - accuracy: 0.9518 - val_loss: 0.2966 - val_accuracy: 0.9565\n",
      "Epoch 5/50\n",
      "1875/1875 [==============================] - 34s 18ms/step - loss: 0.3161 - accuracy: 0.9505 - val_loss: 0.3077 - val_accuracy: 0.9533\n",
      "Epoch 6/50\n",
      "1875/1875 [==============================] - 35s 19ms/step - loss: 0.3014 - accuracy: 0.9528 - val_loss: 0.2732 - val_accuracy: 0.9597\n",
      "Epoch 7/50\n",
      "1875/1875 [==============================] - 36s 19ms/step - loss: 0.2914 - accuracy: 0.9538 - val_loss: 0.2776 - val_accuracy: 0.9568\n",
      "Epoch 8/50\n",
      "1875/1875 [==============================] - 38s 20ms/step - loss: 0.2836 - accuracy: 0.9535 - val_loss: 0.2667 - val_accuracy: 0.9587\n",
      "Epoch 9/50\n",
      "1875/1875 [==============================] - 36s 19ms/step - loss: 0.2795 - accuracy: 0.9543 - val_loss: 0.2611 - val_accuracy: 0.9570TA: 19s - loss - ETA: 18s - loss: 0.2803 - accuracy: 0 - ETA: 18s - loss\n",
      "Epoch 10/50\n",
      "1875/1875 [==============================] - 37s 20ms/step - loss: 0.2734 - accuracy: 0.9552 - val_loss: 0.2750 - val_accuracy: 0.9525\n",
      "Epoch 11/50\n",
      "1875/1875 [==============================] - 36s 19ms/step - loss: 0.2717 - accuracy: 0.9552 - val_loss: 0.2616 - val_accuracy: 0.9604\n",
      "Epoch 12/50\n",
      "1875/1875 [==============================] - 36s 19ms/step - loss: 0.2707 - accuracy: 0.9553 - val_loss: 0.2830 - val_accuracy: 0.9498\n",
      "Epoch 13/50\n",
      "1875/1875 [==============================] - 33s 18ms/step - loss: 0.2712 - accuracy: 0.9525 - val_loss: 0.2510 - val_accuracy: 0.9621\n",
      "Epoch 14/50\n",
      "1875/1875 [==============================] - 32s 17ms/step - loss: 0.2653 - accuracy: 0.9550 - val_loss: 0.2682 - val_accuracy: 0.9557\n",
      "Epoch 15/50\n",
      "1875/1875 [==============================] - 34s 18ms/step - loss: 0.2651 - accuracy: 0.9557 - val_loss: 0.2815 - val_accuracy: 0.9497\n",
      "Epoch 16/50\n",
      "1875/1875 [==============================] - 31s 16ms/step - loss: 0.2652 - accuracy: 0.9554 - val_loss: 0.2877 - val_accuracy: 0.95303s - loss: 0.2\n",
      "Epoch 17/50\n",
      "1875/1875 [==============================] - 32s 17ms/step - loss: 0.2678 - accuracy: 0.9549 - val_loss: 0.2643 - val_accuracy: 0.9564\n",
      "Epoch 18/50\n",
      "1875/1875 [==============================] - 31s 16ms/step - loss: 0.2624 - accuracy: 0.9561 - val_loss: 0.2538 - val_accuracy: 0.9614\n",
      "Epoch 19/50\n",
      "1875/1875 [==============================] - 31s 17ms/step - loss: 0.2634 - accuracy: 0.9559 - val_loss: 0.2942 - val_accuracy: 0.9488\n",
      "Epoch 20/50\n",
      "1875/1875 [==============================] - 42s 23ms/step - loss: 0.2629 - accuracy: 0.9560 - val_loss: 0.2664 - val_accuracy: 0.9567\n",
      "Epoch 21/50\n",
      "1875/1875 [==============================] - 40s 22ms/step - loss: 0.2606 - accuracy: 0.9560 - val_loss: 0.2588 - val_accuracy: 0.9579\n",
      "Epoch 22/50\n",
      "1875/1875 [==============================] - 41s 22ms/step - loss: 0.2620 - accuracy: 0.9554 - val_loss: 0.2474 - val_accuracy: 0.9582\n",
      "Epoch 23/50\n",
      "1875/1875 [==============================] - 39s 21ms/step - loss: 0.2614 - accuracy: 0.9544 - val_loss: 0.2573 - val_accuracy: 0.9537\n",
      "Epoch 24/50\n",
      "1875/1875 [==============================] - 35s 19ms/step - loss: 0.2589 - accuracy: 0.9556 - val_loss: 0.2666 - val_accuracy: 0.9493\n",
      "Epoch 25/50\n",
      "1875/1875 [==============================] - 42s 22ms/step - loss: 0.2536 - accuracy: 0.9558 - val_loss: 0.2634 - val_accuracy: 0.9536\n",
      "Epoch 26/50\n",
      "1875/1875 [==============================] - 25s 13ms/step - loss: 0.2538 - accuracy: 0.9552 - val_loss: 0.3036 - val_accuracy: 0.9443\n",
      "Epoch 27/50\n",
      "1875/1875 [==============================] - 35s 19ms/step - loss: 0.2552 - accuracy: 0.9556 - val_loss: 0.2419 - val_accuracy: 0.9577\n",
      "Epoch 28/50\n",
      "1875/1875 [==============================] - 30s 16ms/step - loss: 0.2538 - accuracy: 0.9551 - val_loss: 0.2456 - val_accuracy: 0.9591\n",
      "Epoch 29/50\n",
      "1875/1875 [==============================] - 27s 14ms/step - loss: 0.2554 - accuracy: 0.9551 - val_loss: 0.2390 - val_accuracy: 0.9588\n",
      "Epoch 30/50\n",
      "1875/1875 [==============================] - 27s 14ms/step - loss: 0.2525 - accuracy: 0.9565 - val_loss: 0.2653 - val_accuracy: 0.9521\n",
      "Epoch 31/50\n",
      "1875/1875 [==============================] - 27s 14ms/step - loss: 0.2528 - accuracy: 0.9557 - val_loss: 0.2531 - val_accuracy: 0.9552\n",
      "Epoch 32/50\n",
      "1875/1875 [==============================] - 27s 14ms/step - loss: 0.2525 - accuracy: 0.9552 - val_loss: 0.2331 - val_accuracy: 0.9628\n",
      "Epoch 33/50\n",
      "1875/1875 [==============================] - 27s 14ms/step - loss: 0.2535 - accuracy: 0.9560 - val_loss: 0.2572 - val_accuracy: 0.9555\n",
      "Epoch 34/50\n",
      "1875/1875 [==============================] - 26s 14ms/step - loss: 0.2551 - accuracy: 0.9550 - val_loss: 0.2576 - val_accuracy: 0.9566\n",
      "Epoch 35/50\n",
      "1875/1875 [==============================] - 39s 21ms/step - loss: 0.2528 - accuracy: 0.9550 - val_loss: 0.2493 - val_accuracy: 0.9562\n",
      "Epoch 36/50\n",
      "1875/1875 [==============================] - 27s 15ms/step - loss: 0.2558 - accuracy: 0.9542 - val_loss: 0.2779 - val_accuracy: 0.9481\n",
      "Epoch 37/50\n",
      "1875/1875 [==============================] - 37s 20ms/step - loss: 0.2519 - accuracy: 0.9553 - val_loss: 0.2563 - val_accuracy: 0.9534\n",
      "Epoch 38/50\n",
      "1875/1875 [==============================] - 34s 18ms/step - loss: 0.2518 - accuracy: 0.9556 - val_loss: 0.2466 - val_accuracy: 0.9567\n",
      "Epoch 39/50\n",
      "1875/1875 [==============================] - 34s 18ms/step - loss: 0.2536 - accuracy: 0.9554 - val_loss: 0.2953 - val_accuracy: 0.9404\n",
      "Epoch 40/50\n",
      "1875/1875 [==============================] - 29s 16ms/step - loss: 0.2543 - accuracy: 0.9542 - val_loss: 0.2698 - val_accuracy: 0.9482\n",
      "Epoch 41/50\n",
      "1875/1875 [==============================] - 32s 17ms/step - loss: 0.2491 - accuracy: 0.9560 - val_loss: 0.2539 - val_accuracy: 0.9556\n",
      "Epoch 42/50\n",
      "1875/1875 [==============================] - 28s 15ms/step - loss: 0.2546 - accuracy: 0.9549 - val_loss: 0.2596 - val_accuracy: 0.9523\n",
      "Epoch 43/50\n",
      "1875/1875 [==============================] - 18s 10ms/step - loss: 0.2533 - accuracy: 0.9548 - val_loss: 0.2418 - val_accuracy: 0.9589\n",
      "Epoch 44/50\n",
      "1875/1875 [==============================] - 17s 9ms/step - loss: 0.2540 - accuracy: 0.9551 - val_loss: 0.2727 - val_accuracy: 0.9498\n",
      "Epoch 45/50\n",
      "1875/1875 [==============================] - 17s 9ms/step - loss: 0.2491 - accuracy: 0.9553 - val_loss: 0.2558 - val_accuracy: 0.9549\n",
      "Epoch 46/50\n",
      "1875/1875 [==============================] - 10s 5ms/step - loss: 0.2480 - accuracy: 0.9553 - val_loss: 0.2455 - val_accuracy: 0.9559\n",
      "Epoch 47/50\n",
      "1875/1875 [==============================] - 12s 6ms/step - loss: 0.2510 - accuracy: 0.9549 - val_loss: 0.2270 - val_accuracy: 0.9615\n",
      "Epoch 48/50\n",
      "1875/1875 [==============================] - 11s 6ms/step - loss: 0.2509 - accuracy: 0.9548 - val_loss: 0.2423 - val_accuracy: 0.9572\n",
      "Epoch 49/50\n",
      "1875/1875 [==============================] - 11s 6ms/step - loss: 0.2483 - accuracy: 0.9563 - val_loss: 0.2673 - val_accuracy: 0.9482\n",
      "Epoch 50/50\n",
      "1875/1875 [==============================] - 13s 7ms/step - loss: 0.2493 - accuracy: 0.9549 - val_loss: 0.2605 - val_accuracy: 0.9515\n"
     ]
    },
    {
     "data": {
      "text/plain": [
       "<tensorflow.python.keras.callbacks.History at 0x21bee3029b0>"
      ]
     },
     "execution_count": 15,
     "metadata": {},
     "output_type": "execute_result"
    }
   ],
   "source": [
    "from tensorflow.keras import regularizers\n",
    "\n",
    "model = Sequential([\n",
    "    Flatten(input_shape = (28,28)),\n",
    "    Dense(128, activation='relu', kernel_regularizer=regularizers.l2(0.01)),\n",
    "    Dense(128, activation='relu', kernel_regularizer=regularizers.l2(0.01)),\n",
    "    Dense(128, activation='relu', kernel_regularizer=regularizers.l2(0.01)),\n",
    "    Dense(10, activation='softmax')\n",
    "])\n",
    "\n",
    "model.compile(loss='sparse_categorical_crossentropy', optimizer='nadam', metrics=['accuracy'])\n",
    "\n",
    "model.fit(X_train, y_train, epochs=50, \n",
    "          validation_data=(X_test,y_test),\n",
    "          callbacks=[tensorboard_callback])\n"
   ]
  },
  {
   "cell_type": "markdown",
   "metadata": {},
   "source": [
    "### Weight Constraint\n",
    "\n",
    "```python\n",
    "tf.keras.constraints.MaxNorm(\n",
    "    max_value=2, axis=0\n",
    ")\n",
    "```"
   ]
  },
  {
   "cell_type": "code",
   "execution_count": 16,
   "metadata": {},
   "outputs": [
    {
     "name": "stdout",
     "output_type": "stream",
     "text": [
      "Epoch 1/50\n",
      "   2/1875 [..............................] - ETA: 8:43 - loss: 54.0177 - accuracy: 0.2500WARNING:tensorflow:Method (on_train_batch_end) is slow compared to the batch update (0.261304). Check your callbacks.\n",
      "1875/1875 [==============================] - 12s 6ms/step - loss: 1.0473 - accuracy: 0.8764 - val_loss: 0.3074 - val_accuracy: 0.9243\n",
      "Epoch 2/50\n",
      "1875/1875 [==============================] - 12s 6ms/step - loss: 0.2328 - accuracy: 0.9387 - val_loss: 0.2227 - val_accuracy: 0.9386\n",
      "Epoch 3/50\n",
      "1875/1875 [==============================] - 17s 9ms/step - loss: 0.1735 - accuracy: 0.9510 - val_loss: 0.1704 - val_accuracy: 0.9519\n",
      "Epoch 4/50\n",
      "1875/1875 [==============================] - 12s 6ms/step - loss: 0.1404 - accuracy: 0.9597 - val_loss: 0.1821 - val_accuracy: 0.9538\n",
      "Epoch 5/50\n",
      "1875/1875 [==============================] - 13s 7ms/step - loss: 0.1235 - accuracy: 0.9648 - val_loss: 0.2127 - val_accuracy: 0.9567\n",
      "Epoch 6/50\n",
      "1875/1875 [==============================] - 13s 7ms/step - loss: 0.1110 - accuracy: 0.9684 - val_loss: 0.1422 - val_accuracy: 0.9601\n",
      "Epoch 7/50\n",
      "1875/1875 [==============================] - 12s 7ms/step - loss: 0.1028 - accuracy: 0.9709 - val_loss: 0.1471 - val_accuracy: 0.9619\n",
      "Epoch 8/50\n",
      "1875/1875 [==============================] - 11s 6ms/step - loss: 0.0956 - accuracy: 0.9722 - val_loss: 0.1304 - val_accuracy: 0.9655\n",
      "Epoch 9/50\n",
      "1875/1875 [==============================] - 11s 6ms/step - loss: 0.0935 - accuracy: 0.9740 - val_loss: 0.1384 - val_accuracy: 0.9674\n",
      "Epoch 10/50\n",
      "1875/1875 [==============================] - 13s 7ms/step - loss: 0.0863 - accuracy: 0.9750 - val_loss: 0.1473 - val_accuracy: 0.9643\n",
      "Epoch 11/50\n",
      "1875/1875 [==============================] - 12s 6ms/step - loss: 0.0790 - accuracy: 0.9773 - val_loss: 0.1568 - val_accuracy: 0.9622\n",
      "Epoch 12/50\n",
      "1875/1875 [==============================] - 11s 6ms/step - loss: 0.0875 - accuracy: 0.9752 - val_loss: 0.1290 - val_accuracy: 0.9684\n",
      "Epoch 13/50\n",
      "1875/1875 [==============================] - 11s 6ms/step - loss: 0.0749 - accuracy: 0.9786 - val_loss: 0.1414 - val_accuracy: 0.9658\n",
      "Epoch 14/50\n",
      "1875/1875 [==============================] - 11s 6ms/step - loss: 0.0779 - accuracy: 0.9786 - val_loss: 0.1154 - val_accuracy: 0.9726\n",
      "Epoch 15/50\n",
      "1875/1875 [==============================] - 11s 6ms/step - loss: 0.0761 - accuracy: 0.9791 - val_loss: 0.1474 - val_accuracy: 0.9650\n",
      "Epoch 16/50\n",
      "1875/1875 [==============================] - 11s 6ms/step - loss: 0.0669 - accuracy: 0.9808 - val_loss: 0.1274 - val_accuracy: 0.9685\n",
      "Epoch 17/50\n",
      "1875/1875 [==============================] - 11s 6ms/step - loss: 0.0791 - accuracy: 0.9784 - val_loss: 0.1781 - val_accuracy: 0.9631\n",
      "Epoch 18/50\n",
      "1875/1875 [==============================] - 11s 6ms/step - loss: 0.0692 - accuracy: 0.9808 - val_loss: 0.1309 - val_accuracy: 0.9713\n",
      "Epoch 19/50\n",
      "1875/1875 [==============================] - 11s 6ms/step - loss: 0.0714 - accuracy: 0.9808 - val_loss: 0.1355 - val_accuracy: 0.9657\n",
      "Epoch 20/50\n",
      "1875/1875 [==============================] - 12s 6ms/step - loss: 0.0684 - accuracy: 0.9811 - val_loss: 0.1255 - val_accuracy: 0.9717\n",
      "Epoch 21/50\n",
      "1875/1875 [==============================] - 13s 7ms/step - loss: 0.0685 - accuracy: 0.9816 - val_loss: 0.1267 - val_accuracy: 0.9735\n",
      "Epoch 22/50\n",
      "1875/1875 [==============================] - 11s 6ms/step - loss: 0.0686 - accuracy: 0.9813 - val_loss: 0.1629 - val_accuracy: 0.9690\n",
      "Epoch 23/50\n",
      "1875/1875 [==============================] - 11s 6ms/step - loss: 0.0735 - accuracy: 0.9804 - val_loss: 0.1285 - val_accuracy: 0.9725\n",
      "Epoch 24/50\n",
      "1875/1875 [==============================] - 11s 6ms/step - loss: 0.0717 - accuracy: 0.9810 - val_loss: 0.1110 - val_accuracy: 0.9757\n",
      "Epoch 25/50\n",
      "1875/1875 [==============================] - 11s 6ms/step - loss: 0.0633 - accuracy: 0.9826 - val_loss: 0.1091 - val_accuracy: 0.9754\n",
      "Epoch 26/50\n",
      "1875/1875 [==============================] - 11s 6ms/step - loss: 0.0719 - accuracy: 0.9812 - val_loss: 0.1448 - val_accuracy: 0.9678\n",
      "Epoch 27/50\n",
      "1875/1875 [==============================] - 11s 6ms/step - loss: 0.0712 - accuracy: 0.9820 - val_loss: 0.1129 - val_accuracy: 0.9737\n",
      "Epoch 28/50\n",
      "1875/1875 [==============================] - 11s 6ms/step - loss: 0.0623 - accuracy: 0.9823 - val_loss: 0.1553 - val_accuracy: 0.9692\n",
      "Epoch 29/50\n",
      "1875/1875 [==============================] - 11s 6ms/step - loss: 0.0666 - accuracy: 0.9825 - val_loss: 0.1395 - val_accuracy: 0.9713\n",
      "Epoch 30/50\n",
      "1875/1875 [==============================] - 12s 6ms/step - loss: 0.0646 - accuracy: 0.9827 - val_loss: 0.1146 - val_accuracy: 0.9742\n",
      "Epoch 31/50\n",
      "1875/1875 [==============================] - 11s 6ms/step - loss: 0.0673 - accuracy: 0.9831 - val_loss: 0.1123 - val_accuracy: 0.9740\n",
      "Epoch 32/50\n",
      "1875/1875 [==============================] - 12s 6ms/step - loss: 0.0639 - accuracy: 0.9828 - val_loss: 0.1678 - val_accuracy: 0.9660\n",
      "Epoch 33/50\n",
      "1875/1875 [==============================] - 11s 6ms/step - loss: 0.0607 - accuracy: 0.9840 - val_loss: 0.1221 - val_accuracy: 0.9732\n",
      "Epoch 34/50\n",
      "1875/1875 [==============================] - 10s 6ms/step - loss: 0.0623 - accuracy: 0.9832 - val_loss: 0.1166 - val_accuracy: 0.9729\n",
      "Epoch 35/50\n",
      "1875/1875 [==============================] - 10s 6ms/step - loss: 0.0636 - accuracy: 0.9829 - val_loss: 0.1401 - val_accuracy: 0.9681\n",
      "Epoch 36/50\n",
      "1875/1875 [==============================] - 10s 6ms/step - loss: 0.0602 - accuracy: 0.9840 - val_loss: 0.1458 - val_accuracy: 0.9698\n",
      "Epoch 37/50\n",
      "1875/1875 [==============================] - 11s 6ms/step - loss: 0.0688 - accuracy: 0.9830 - val_loss: 0.1020 - val_accuracy: 0.9775\n",
      "Epoch 38/50\n",
      "1875/1875 [==============================] - 11s 6ms/step - loss: 0.0595 - accuracy: 0.9843 - val_loss: 0.1378 - val_accuracy: 0.9691\n",
      "Epoch 39/50\n",
      "1875/1875 [==============================] - 11s 6ms/step - loss: 0.0602 - accuracy: 0.9836 - val_loss: 0.1462 - val_accuracy: 0.9696\n",
      "Epoch 40/50\n",
      "1875/1875 [==============================] - 11s 6ms/step - loss: 0.0738 - accuracy: 0.9815 - val_loss: 0.1642 - val_accuracy: 0.9686\n",
      "Epoch 41/50\n",
      "1875/1875 [==============================] - 11s 6ms/step - loss: 0.0649 - accuracy: 0.9828 - val_loss: 0.1426 - val_accuracy: 0.9667\n",
      "Epoch 42/50\n",
      "1875/1875 [==============================] - 11s 6ms/step - loss: 0.0600 - accuracy: 0.9840 - val_loss: 0.1275 - val_accuracy: 0.9663\n",
      "Epoch 43/50\n",
      "1875/1875 [==============================] - 11s 6ms/step - loss: 0.0634 - accuracy: 0.9834 - val_loss: 0.1115 - val_accuracy: 0.9746\n",
      "Epoch 44/50\n",
      "1875/1875 [==============================] - 11s 6ms/step - loss: 0.0581 - accuracy: 0.9844 - val_loss: 0.1444 - val_accuracy: 0.9754\n",
      "Epoch 45/50\n",
      "1875/1875 [==============================] - 10s 6ms/step - loss: 0.0703 - accuracy: 0.9815 - val_loss: 0.1146 - val_accuracy: 0.9750\n",
      "Epoch 46/50\n",
      "1875/1875 [==============================] - 11s 6ms/step - loss: 0.0660 - accuracy: 0.9826 - val_loss: 0.1393 - val_accuracy: 0.9672\n",
      "Epoch 47/50\n",
      "1875/1875 [==============================] - 11s 6ms/step - loss: 0.0546 - accuracy: 0.9846 - val_loss: 0.1203 - val_accuracy: 0.9705\n",
      "Epoch 48/50\n",
      "1875/1875 [==============================] - 11s 6ms/step - loss: 0.0649 - accuracy: 0.9832 - val_loss: 0.1325 - val_accuracy: 0.9707\n",
      "Epoch 49/50\n",
      "1875/1875 [==============================] - 11s 6ms/step - loss: 0.0640 - accuracy: 0.9833 - val_loss: 0.1499 - val_accuracy: 0.9671\n",
      "Epoch 50/50\n",
      "1875/1875 [==============================] - 11s 6ms/step - loss: 0.0592 - accuracy: 0.9847 - val_loss: 0.1350 - val_accuracy: 0.9700\n"
     ]
    },
    {
     "data": {
      "text/plain": [
       "<tensorflow.python.keras.callbacks.History at 0x21bf05ab630>"
      ]
     },
     "execution_count": 16,
     "metadata": {},
     "output_type": "execute_result"
    }
   ],
   "source": [
    "from tensorflow.keras.constraints import MaxNorm\n",
    "\n",
    "model = Sequential([\n",
    "    Flatten(input_shape = (28,28)),\n",
    "    Dense(128, activation='relu', kernel_constraint=MaxNorm(2)),\n",
    "    Dense(128, activation='relu',kernel_constraint=MaxNorm(2)),\n",
    "    Dense(128, activation='relu', kernel_constraint=MaxNorm(2)),\n",
    "    Dense(10, activation='softmax')\n",
    "])\n",
    "\n",
    "model.compile(loss='sparse_categorical_crossentropy', optimizer='nadam', metrics=['accuracy'])\n",
    "\n",
    "model.fit(X_train, y_train, epochs=50, \n",
    "          validation_data=(X_test,y_test),\n",
    "          callbacks=[tensorboard_callback])\n"
   ]
  },
  {
   "cell_type": "markdown",
   "metadata": {},
   "source": [
    "### Dropout"
   ]
  },
  {
   "cell_type": "code",
   "execution_count": null,
   "metadata": {},
   "outputs": [],
   "source": [
    "from tensorflow.keras.layers import Dropout\n"
   ]
  },
  {
   "cell_type": "code",
   "execution_count": null,
   "metadata": {},
   "outputs": [],
   "source": [
    "%tensorboard --logdir logs"
   ]
  },
  {
   "cell_type": "markdown",
   "metadata": {},
   "source": [
    "## Challenge\n",
    "\n",
    "You will apply regularization strategies inside your neural network today, as you try to avoid overfitting it. \n",
    "\n",
    "---"
   ]
  }
 ],
 "metadata": {
  "colab": {
   "collapsed_sections": [],
   "name": "LS_DS_433_Keras_Lecture.ipynb",
   "provenance": [],
   "version": "0.3.2"
  },
  "kernelspec": {
   "display_name": "U4S12-NLP (Python3)",
   "language": "python",
   "name": "u4s12-nlp"
  },
  "language_info": {
   "codemirror_mode": {
    "name": "ipython",
    "version": 3
   },
   "file_extension": ".py",
   "mimetype": "text/x-python",
   "name": "python",
   "nbconvert_exporter": "python",
   "pygments_lexer": "ipython3",
   "version": "3.7.0"
  },
  "toc-autonumbering": false,
  "toc-showmarkdowntxt": false
 },
 "nbformat": 4,
 "nbformat_minor": 4
}
