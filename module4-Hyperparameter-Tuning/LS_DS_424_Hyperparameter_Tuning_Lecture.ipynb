{
 "cells": [
  {
   "cell_type": "markdown",
   "metadata": {
    "colab_type": "text",
    "id": "41TS0Sa0rDNx"
   },
   "source": [
    "Lambda School Data Science\n",
    "\n",
    "*Unit 4, Sprint 2, Module 4*\n",
    "\n",
    "---"
   ]
  },
  {
   "cell_type": "markdown",
   "metadata": {
    "colab_type": "text",
    "id": "41TS0Sa0rDNx"
   },
   "source": [
    "# Neural Networks & GPUs (Prepare)\n",
    "*aka Hyperparameter Tuning*\n",
    "\n",
    "*aka Big Servers for Big Problems*"
   ]
  },
  {
   "cell_type": "markdown",
   "metadata": {
    "colab_type": "text",
    "id": "41TS0Sa0rDNx"
   },
   "source": [
    "## Learning Objectives\n",
    "* <a href=\"#p1\">Part 1</a>: Describe the major hyperparemeters to tune\n",
    "* <a href=\"#p2\">Part 2</a>: Implement an experiment tracking framework\n",
    "* <a href=\"#p3\">Part 3</a>: Search the hyperparameter space using RandomSearch (Optional)"
   ]
  },
  {
   "cell_type": "code",
   "execution_count": 1,
   "metadata": {},
   "outputs": [],
   "source": [
    "wandb_group = \"ds8\"\n",
    "wandb_project = \"ds15-inclass\""
   ]
  },
  {
   "cell_type": "code",
   "execution_count": 2,
   "metadata": {},
   "outputs": [
    {
     "name": "stdout",
     "output_type": "stream",
     "text": [
      "Collecting wandb\n",
      "  Downloading wandb-0.9.4-py2.py3-none-any.whl (1.4 MB)\n",
      "Processing c:\\users\\j8015\\appdata\\local\\pip\\cache\\wheels\\df\\99\\da\\c34f202dc8fd1dffd35e0ecf1a7d7f8374ca05fbcbaf974b83\\nvidia_ml_py3-7.352.0-py3-none-any.whl\n",
      "Requirement already satisfied: python-dateutil>=2.6.1 in c:\\users\\j8015\\anaconda3\\envs\\u4s12-nlp\\lib\\site-packages (from wandb) (2.8.1)\n",
      "Processing c:\\users\\j8015\\appdata\\local\\pip\\cache\\wheels\\b6\\9a\\56\\5456fd32264a8fc53eefcb2f74e24e99a7ef4eb40a9af5c905\\gql-0.2.0-py3-none-any.whl\n",
      "Processing c:\\users\\j8015\\appdata\\local\\pip\\cache\\wheels\\50\\ca\\fa\\8fca8d246e64f19488d07567547ddec8eb084e8c0d7a59226a\\subprocess32-3.5.4-py3-none-any.whl\n",
      "Collecting GitPython>=1.0.0\n",
      "  Using cached GitPython-3.1.7-py3-none-any.whl (158 kB)\n",
      "Processing c:\\users\\j8015\\appdata\\local\\pip\\cache\\wheels\\27\\21\\35\\9d1e531f9de5335147dbef07e9cc99d312525ba128a93d1225\\watchdog-0.10.3-py3-none-any.whl\n",
      "Collecting docker-pycreds>=0.4.0\n",
      "  Using cached docker_pycreds-0.4.0-py2.py3-none-any.whl (9.0 kB)\n",
      "Requirement already satisfied: six>=1.10.0 in c:\\users\\j8015\\anaconda3\\envs\\u4s12-nlp\\lib\\site-packages (from wandb) (1.15.0)\n",
      "Collecting sentry-sdk>=0.4.0\n",
      "  Downloading sentry_sdk-0.16.2-py2.py3-none-any.whl (109 kB)\n",
      "Collecting PyYAML>=3.10\n",
      "  Using cached PyYAML-5.3.1-cp37-cp37m-win_amd64.whl (216 kB)\n",
      "Requirement already satisfied: requests>=2.0.0 in c:\\users\\j8015\\anaconda3\\envs\\u4s12-nlp\\lib\\site-packages (from wandb) (2.24.0)\n",
      "Requirement already satisfied: Click>=7.0 in c:\\users\\j8015\\anaconda3\\envs\\u4s12-nlp\\lib\\site-packages (from wandb) (7.1.2)\n",
      "Collecting psutil>=5.0.0\n",
      "  Using cached psutil-5.7.2-cp37-cp37m-win_amd64.whl (242 kB)\n",
      "Collecting configparser>=3.8.1\n",
      "  Using cached configparser-5.0.0-py3-none-any.whl (22 kB)\n",
      "Collecting shortuuid>=0.5.0\n",
      "  Using cached shortuuid-1.0.1-py3-none-any.whl (7.5 kB)\n",
      "Processing c:\\users\\j8015\\appdata\\local\\pip\\cache\\wheels\\29\\93\\c6\\762e359f8cb6a5b69c72235d798804cae523bbe41c2aa8333d\\promise-2.3-py3-none-any.whl\n",
      "Processing c:\\users\\j8015\\appdata\\local\\pip\\cache\\wheels\\6b\\fd\\8c\\a20dd591c1a554070cc33fb58042867e6ac1c85395abe2e57a\\graphql_core-1.1-py3-none-any.whl\n",
      "Collecting gitdb<5,>=4.0.1\n",
      "  Using cached gitdb-4.0.5-py3-none-any.whl (63 kB)\n",
      "Processing c:\\users\\j8015\\appdata\\local\\pip\\cache\\wheels\\3e\\31\\09\\fa59cef12cdcfecc627b3d24273699f390e71828921b2cbba2\\pathtools-0.1.2-py3-none-any.whl\n",
      "Requirement already satisfied: urllib3>=1.10.0 in c:\\users\\j8015\\anaconda3\\envs\\u4s12-nlp\\lib\\site-packages (from sentry-sdk>=0.4.0->wandb) (1.25.9)\n",
      "Requirement already satisfied: certifi in c:\\users\\j8015\\anaconda3\\envs\\u4s12-nlp\\lib\\site-packages (from sentry-sdk>=0.4.0->wandb) (2020.6.20)\n",
      "Requirement already satisfied: idna<3,>=2.5 in c:\\users\\j8015\\anaconda3\\envs\\u4s12-nlp\\lib\\site-packages (from requests>=2.0.0->wandb) (2.10)\n",
      "Requirement already satisfied: chardet<4,>=3.0.2 in c:\\users\\j8015\\anaconda3\\envs\\u4s12-nlp\\lib\\site-packages (from requests>=2.0.0->wandb) (3.0.4)\n",
      "Collecting smmap<4,>=3.0.1\n",
      "  Using cached smmap-3.0.4-py2.py3-none-any.whl (25 kB)\n",
      "Installing collected packages: nvidia-ml-py3, promise, graphql-core, gql, subprocess32, smmap, gitdb, GitPython, pathtools, watchdog, docker-pycreds, sentry-sdk, PyYAML, psutil, configparser, shortuuid, wandb\n",
      "Successfully installed GitPython-3.1.7 PyYAML-5.3.1 configparser-5.0.0 docker-pycreds-0.4.0 gitdb-4.0.5 gql-0.2.0 graphql-core-1.1 nvidia-ml-py3-7.352.0 pathtools-0.1.2 promise-2.3 psutil-5.7.2 sentry-sdk-0.16.2 shortuuid-1.0.1 smmap-3.0.4 subprocess32-3.5.4 wandb-0.9.4 watchdog-0.10.3\n"
     ]
    }
   ],
   "source": [
    "!pip install wandb"
   ]
  },
  {
   "cell_type": "code",
   "execution_count": 4,
   "metadata": {},
   "outputs": [
    {
     "name": "stdout",
     "output_type": "stream",
     "text": [
      "Successfully logged in to Weights & Biases!"
     ]
    },
    {
     "name": "stderr",
     "output_type": "stream",
     "text": [
      "wandb: Appending key for api.wandb.ai to your netrc file: C:\\Users\\J8015/.netrc\n"
     ]
    },
    {
     "name": "stdout",
     "output_type": "stream",
     "text": [
      "\n"
     ]
    }
   ],
   "source": [
    "!wandb login 640241be7cced9978fd75f1570446b889f420d67"
   ]
  },
  {
   "cell_type": "code",
   "execution_count": null,
   "metadata": {},
   "outputs": [],
   "source": []
  },
  {
   "cell_type": "code",
   "execution_count": null,
   "metadata": {},
   "outputs": [],
   "source": []
  },
  {
   "cell_type": "markdown",
   "metadata": {},
   "source": [
    "# Hyperparameter Options (Learn)\n",
    "<a id=\"p1\"></a>"
   ]
  },
  {
   "cell_type": "markdown",
   "metadata": {},
   "source": [
    "## Overview\n",
    "\n",
    "Hyperparameter tuning is much more important with neural networks than it has been with any other models that we have considered up to this point. Other supervised learning models might have a couple of parameters, but neural networks can have dozens. These can substantially affect the accuracy of our models and although it can be a time consuming process is a necessary step when working with neural networks.\n",
    "​\n",
    "Hyperparameter tuning comes with a challenge. How can we compare models specified with different hyperparameters if our model's final error metric can vary somewhat erratically? How do we avoid just getting unlucky and selecting the wrong hyperparameter? This is a problem that to a certain degree we just have to live with as we test and test again. However, we can minimize it somewhat by pairing our experiments with Cross Validation to reduce the variance of our final accuracy values."
   ]
  },
  {
   "cell_type": "markdown",
   "metadata": {
    "colab_type": "text",
    "id": "0s0o2pqBs88q"
   },
   "source": [
    "### Load Boston Housing Data"
   ]
  },
  {
   "cell_type": "code",
   "execution_count": 5,
   "metadata": {},
   "outputs": [
    {
     "name": "stdout",
     "output_type": "stream",
     "text": [
      "Downloading data from https://storage.googleapis.com/tensorflow/tf-keras-datasets/boston_housing.npz\n",
      "57344/57026 [==============================] - 0s 1us/step\n"
     ]
    }
   ],
   "source": [
    "from tensorflow.keras.datasets import boston_housing\n",
    "\n",
    "(x_train, y_train), (x_test, y_test) = boston_housing.load_data()"
   ]
  },
  {
   "cell_type": "markdown",
   "metadata": {
    "colab_type": "text",
    "id": "Pm7zow5IvaTt"
   },
   "source": [
    "### Normalizing Input Data\n",
    "\n",
    "It's not 100% necessary to normalize/scale your input data before feeding it to a neural network, the network can learn the appropriate weights to deal with data of as long as it is numerically represented,  but it is recommended as it can help **make training faster** and **reduces the chances that gradient descent might get stuck in a local optimum**.\n",
    "\n",
    "<https://stackoverflow.com/questions/4674623/why-do-we-have-to-normalize-the-input-for-an-artificial-neural-network>"
   ]
  },
  {
   "cell_type": "code",
   "execution_count": 6,
   "metadata": {},
   "outputs": [
    {
     "name": "stdout",
     "output_type": "stream",
     "text": [
      "[[-0.27224633 -0.48361547 -0.43576161 -0.25683275 -0.1652266  -0.1764426\n",
      "   0.81306188  0.1166983  -0.62624905 -0.59517003  1.14850044  0.44807713\n",
      "   0.8252202 ]\n",
      " [-0.40342651  2.99178419 -1.33391162 -0.25683275 -1.21518188  1.89434613\n",
      "  -1.91036058  1.24758524 -0.85646254 -0.34843254 -1.71818909  0.43190599\n",
      "  -1.32920239]\n",
      " [ 0.1249402  -0.48361547  1.0283258  -0.25683275  0.62864202 -1.82968811\n",
      "   1.11048828 -1.18743907  1.67588577  1.5652875   0.78447637  0.22061726\n",
      "  -1.30850006]\n",
      " [-0.40149354 -0.48361547 -0.86940196 -0.25683275 -0.3615597  -0.3245576\n",
      "  -1.23667187  1.10717989 -0.51114231 -1.094663    0.78447637  0.44807713\n",
      "  -0.65292624]\n",
      " [-0.0056343  -0.48361547  1.0283258  -0.25683275  1.32861221  0.15364225\n",
      "   0.69480801 -0.57857203  1.67588577  1.5652875   0.78447637  0.3898823\n",
      "   0.26349695]\n",
      " [-0.37502238 -0.48361547 -0.54747912 -0.25683275 -0.54935658 -0.78865126\n",
      "   0.18954148  0.48371503 -0.51114231 -0.71552978  0.51145832  0.38669063\n",
      "  -0.13812828]\n",
      " [ 0.58963463 -0.48361547  1.0283258  -0.25683275  1.21764133 -1.03127774\n",
      "   1.11048828 -1.06518235  1.67588577  1.5652875   0.78447637  0.44807713\n",
      "   1.49873604]\n",
      " [ 0.0381708  -0.48361547  1.24588095 -0.25683275  2.67733525 -1.12719983\n",
      "   1.11048828 -1.14833073 -0.51114231 -0.01744323 -1.71818909  0.44807713\n",
      "   1.88793986]\n",
      " [-0.17228416 -0.48361547  1.24588095 -0.25683275  2.67733525 -0.90150078\n",
      "   1.11048828 -1.09664657 -0.51114231 -0.01744323 -1.71818909 -1.97365769\n",
      "   0.53952803]\n",
      " [-0.22932104 -0.48361547  1.58544339 -0.25683275  0.56888847 -1.76056777\n",
      "   1.11048828 -1.13471925 -0.62624905  0.18716835  1.23950646  0.44807713\n",
      "   2.99068404]]\n"
     ]
    }
   ],
   "source": [
    "from sklearn.preprocessing import StandardScaler\n",
    "\n",
    "scaler = StandardScaler()\n",
    "\n",
    "x_train = scaler.fit_transform(x_train)\n",
    "x_test = scaler.transform(x_test)\n",
    "print(x_train[:10])"
   ]
  },
  {
   "cell_type": "markdown",
   "metadata": {
    "colab_type": "text",
    "id": "l6hgCWbir90R"
   },
   "source": [
    "### Model Validation using an automatic verification Dataset\n",
    "\n",
    "Instead of doing seperate train test split class, Keras has a really nice feature that you can set the validation.data argument when fitting your model and Keras will take that portion of your test data and use it as a validation dataset. "
   ]
  },
  {
   "cell_type": "code",
   "execution_count": 7,
   "metadata": {
    "colab": {
     "base_uri": "https://localhost:8080/",
     "height": 1750
    },
    "colab_type": "code",
    "id": "GMXVfmzXp1Oo",
    "outputId": "b05e251e-508f-46e6-865b-f869ae2a5dc4"
   },
   "outputs": [
    {
     "name": "stdout",
     "output_type": "stream",
     "text": [
      "Epoch 1/75\n",
      "41/41 [==============================] - 1s 21ms/step - loss: 465.5526 - mse: 465.5526 - mae: 19.5645 - val_loss: 353.2424 - val_mse: 353.2424 - val_mae: 16.6074\n",
      "Epoch 2/75\n",
      "41/41 [==============================] - 0s 10ms/step - loss: 190.0723 - mse: 190.0723 - mae: 11.0532 - val_loss: 96.8655 - val_mse: 96.8655 - val_mae: 7.8144\n",
      "Epoch 3/75\n",
      "41/41 [==============================] - 0s 8ms/step - loss: 60.1707 - mse: 60.1707 - mae: 5.6796 - val_loss: 46.3133 - val_mse: 46.3133 - val_mae: 5.2206\n",
      "Epoch 4/75\n",
      "41/41 [==============================] - 0s 6ms/step - loss: 32.2046 - mse: 32.2046 - mae: 4.0211 - val_loss: 31.3968 - val_mse: 31.3968 - val_mae: 4.3789\n",
      "Epoch 5/75\n",
      "41/41 [==============================] - 0s 7ms/step - loss: 24.1510 - mse: 24.1510 - mae: 3.4848 - val_loss: 26.5442 - val_mse: 26.5442 - val_mae: 4.0106\n",
      "Epoch 6/75\n",
      "41/41 [==============================] - 0s 7ms/step - loss: 20.7367 - mse: 20.7367 - mae: 3.2494 - val_loss: 24.9687 - val_mse: 24.9687 - val_mae: 3.7931\n",
      "Epoch 7/75\n",
      "41/41 [==============================] - 0s 6ms/step - loss: 18.8260 - mse: 18.8260 - mae: 3.0602 - val_loss: 23.4446 - val_mse: 23.4446 - val_mae: 3.6581\n",
      "Epoch 8/75\n",
      "41/41 [==============================] - 0s 7ms/step - loss: 17.0811 - mse: 17.0811 - mae: 2.9678 - val_loss: 23.5458 - val_mse: 23.5458 - val_mae: 3.6137\n",
      "Epoch 9/75\n",
      "41/41 [==============================] - 0s 7ms/step - loss: 15.9289 - mse: 15.9289 - mae: 2.8247 - val_loss: 23.1521 - val_mse: 23.1521 - val_mae: 3.5814\n",
      "Epoch 10/75\n",
      "41/41 [==============================] - 0s 7ms/step - loss: 14.5612 - mse: 14.5612 - mae: 2.7160 - val_loss: 22.5685 - val_mse: 22.5685 - val_mae: 3.4952\n",
      "Epoch 11/75\n",
      "41/41 [==============================] - 0s 7ms/step - loss: 13.6383 - mse: 13.6383 - mae: 2.6201 - val_loss: 23.1970 - val_mse: 23.1970 - val_mae: 3.4885\n",
      "Epoch 12/75\n",
      "41/41 [==============================] - 0s 7ms/step - loss: 13.0631 - mse: 13.0631 - mae: 2.5936 - val_loss: 23.3457 - val_mse: 23.3457 - val_mae: 3.4718\n",
      "Epoch 13/75\n",
      "41/41 [==============================] - 0s 7ms/step - loss: 12.2867 - mse: 12.2867 - mae: 2.4932 - val_loss: 22.3124 - val_mse: 22.3124 - val_mae: 3.3630\n",
      "Epoch 14/75\n",
      "41/41 [==============================] - 0s 7ms/step - loss: 11.7494 - mse: 11.7494 - mae: 2.4575 - val_loss: 22.9040 - val_mse: 22.9040 - val_mae: 3.3664\n",
      "Epoch 15/75\n",
      "41/41 [==============================] - 0s 7ms/step - loss: 11.5418 - mse: 11.5418 - mae: 2.4099 - val_loss: 23.2659 - val_mse: 23.2659 - val_mae: 3.3819\n",
      "Epoch 16/75\n",
      "41/41 [==============================] - 0s 5ms/step - loss: 10.9731 - mse: 10.9731 - mae: 2.3771 - val_loss: 22.3870 - val_mse: 22.3870 - val_mae: 3.2641\n",
      "Epoch 17/75\n",
      "41/41 [==============================] - 0s 5ms/step - loss: 10.6466 - mse: 10.6466 - mae: 2.3507 - val_loss: 24.5936 - val_mse: 24.5936 - val_mae: 3.3745\n",
      "Epoch 18/75\n",
      "41/41 [==============================] - 0s 4ms/step - loss: 10.5828 - mse: 10.5828 - mae: 2.3585 - val_loss: 23.0762 - val_mse: 23.0762 - val_mae: 3.2868\n",
      "Epoch 19/75\n",
      "41/41 [==============================] - 0s 4ms/step - loss: 10.1324 - mse: 10.1324 - mae: 2.2871 - val_loss: 23.2147 - val_mse: 23.2147 - val_mae: 3.2650\n",
      "Epoch 20/75\n",
      "41/41 [==============================] - 0s 3ms/step - loss: 10.2943 - mse: 10.2943 - mae: 2.3140 - val_loss: 24.4703 - val_mse: 24.4703 - val_mae: 3.3419\n",
      "Epoch 21/75\n",
      "41/41 [==============================] - 0s 4ms/step - loss: 9.8613 - mse: 9.8613 - mae: 2.2313 - val_loss: 24.0257 - val_mse: 24.0257 - val_mae: 3.3242\n",
      "Epoch 22/75\n",
      "41/41 [==============================] - 0s 3ms/step - loss: 9.8772 - mse: 9.8772 - mae: 2.2707 - val_loss: 23.3571 - val_mse: 23.3571 - val_mae: 3.2540\n",
      "Epoch 23/75\n",
      "41/41 [==============================] - 0s 4ms/step - loss: 9.4184 - mse: 9.4184 - mae: 2.2152 - val_loss: 23.1847 - val_mse: 23.1847 - val_mae: 3.2028\n",
      "Epoch 24/75\n",
      "41/41 [==============================] - 0s 7ms/step - loss: 9.3665 - mse: 9.3665 - mae: 2.2143 - val_loss: 23.5149 - val_mse: 23.5149 - val_mae: 3.2250\n",
      "Epoch 25/75\n",
      "41/41 [==============================] - 0s 7ms/step - loss: 9.3748 - mse: 9.3748 - mae: 2.1975 - val_loss: 23.4343 - val_mse: 23.4343 - val_mae: 3.2340\n",
      "Epoch 26/75\n",
      "41/41 [==============================] - 0s 7ms/step - loss: 9.1503 - mse: 9.1503 - mae: 2.1765 - val_loss: 22.7662 - val_mse: 22.7662 - val_mae: 3.1240\n",
      "Epoch 27/75\n",
      "41/41 [==============================] - 0s 7ms/step - loss: 9.2188 - mse: 9.2188 - mae: 2.1785 - val_loss: 23.2222 - val_mse: 23.2222 - val_mae: 3.1672\n",
      "Epoch 28/75\n",
      "41/41 [==============================] - 0s 4ms/step - loss: 8.9800 - mse: 8.9800 - mae: 2.1578 - val_loss: 22.0705 - val_mse: 22.0705 - val_mae: 3.1160\n",
      "Epoch 29/75\n",
      "41/41 [==============================] - 0s 3ms/step - loss: 8.9161 - mse: 8.9161 - mae: 2.1465 - val_loss: 21.4557 - val_mse: 21.4557 - val_mae: 3.0196\n",
      "Epoch 30/75\n",
      "41/41 [==============================] - 0s 4ms/step - loss: 8.7661 - mse: 8.7661 - mae: 2.1208 - val_loss: 21.7657 - val_mse: 21.7657 - val_mae: 3.0892\n",
      "Epoch 31/75\n",
      "41/41 [==============================] - 0s 4ms/step - loss: 8.6751 - mse: 8.6751 - mae: 2.1138 - val_loss: 21.7816 - val_mse: 21.7816 - val_mae: 3.1522\n",
      "Epoch 32/75\n",
      "41/41 [==============================] - 0s 4ms/step - loss: 8.4138 - mse: 8.4138 - mae: 2.0808 - val_loss: 21.4104 - val_mse: 21.4104 - val_mae: 3.0080\n",
      "Epoch 33/75\n",
      "41/41 [==============================] - 0s 3ms/step - loss: 8.5308 - mse: 8.5308 - mae: 2.1281 - val_loss: 19.8219 - val_mse: 19.8219 - val_mae: 2.8918\n",
      "Epoch 34/75\n",
      "41/41 [==============================] - 0s 3ms/step - loss: 8.2509 - mse: 8.2509 - mae: 2.0707 - val_loss: 21.0526 - val_mse: 21.0526 - val_mae: 2.9706\n",
      "Epoch 35/75\n",
      "41/41 [==============================] - 0s 5ms/step - loss: 8.4504 - mse: 8.4504 - mae: 2.0588 - val_loss: 20.8150 - val_mse: 20.8150 - val_mae: 2.8815\n",
      "Epoch 36/75\n",
      "41/41 [==============================] - 0s 4ms/step - loss: 8.2080 - mse: 8.2080 - mae: 2.0586 - val_loss: 20.8737 - val_mse: 20.8737 - val_mae: 2.9582\n",
      "Epoch 37/75\n",
      "41/41 [==============================] - 0s 3ms/step - loss: 7.9118 - mse: 7.9118 - mae: 1.9984 - val_loss: 21.0574 - val_mse: 21.0574 - val_mae: 3.0168\n",
      "Epoch 38/75\n",
      "41/41 [==============================] - 0s 4ms/step - loss: 7.9125 - mse: 7.9125 - mae: 2.0188 - val_loss: 20.6350 - val_mse: 20.6350 - val_mae: 2.9697\n",
      "Epoch 39/75\n",
      "41/41 [==============================] - 0s 3ms/step - loss: 7.8736 - mse: 7.8736 - mae: 2.0277 - val_loss: 19.1884 - val_mse: 19.1884 - val_mae: 2.8261\n",
      "Epoch 40/75\n",
      "41/41 [==============================] - 0s 4ms/step - loss: 7.8941 - mse: 7.8941 - mae: 1.9983 - val_loss: 20.5328 - val_mse: 20.5328 - val_mae: 2.9114\n",
      "Epoch 41/75\n",
      "41/41 [==============================] - 0s 4ms/step - loss: 7.6200 - mse: 7.6200 - mae: 2.0003 - val_loss: 19.3292 - val_mse: 19.3292 - val_mae: 2.8278\n",
      "Epoch 42/75\n",
      "41/41 [==============================] - 0s 4ms/step - loss: 7.6511 - mse: 7.6511 - mae: 1.9492 - val_loss: 19.4997 - val_mse: 19.4997 - val_mae: 2.8616\n",
      "Epoch 43/75\n",
      "41/41 [==============================] - 0s 4ms/step - loss: 7.2710 - mse: 7.2710 - mae: 1.9302 - val_loss: 19.1262 - val_mse: 19.1262 - val_mae: 2.7489\n",
      "Epoch 44/75\n",
      "41/41 [==============================] - 0s 3ms/step - loss: 7.6279 - mse: 7.6279 - mae: 1.9497 - val_loss: 18.6478 - val_mse: 18.6478 - val_mae: 2.7443\n",
      "Epoch 45/75\n",
      "41/41 [==============================] - 0s 4ms/step - loss: 7.0888 - mse: 7.0888 - mae: 1.8963 - val_loss: 19.6793 - val_mse: 19.6793 - val_mae: 2.8383\n",
      "Epoch 46/75\n",
      "41/41 [==============================] - 0s 3ms/step - loss: 7.1844 - mse: 7.1844 - mae: 1.8929 - val_loss: 20.5904 - val_mse: 20.5904 - val_mae: 2.9730\n",
      "Epoch 47/75\n",
      "41/41 [==============================] - 0s 4ms/step - loss: 7.1174 - mse: 7.1174 - mae: 1.8969 - val_loss: 20.0497 - val_mse: 20.0497 - val_mae: 2.8614\n",
      "Epoch 48/75\n",
      "41/41 [==============================] - 0s 4ms/step - loss: 7.0204 - mse: 7.0204 - mae: 1.8941 - val_loss: 19.0298 - val_mse: 19.0298 - val_mae: 2.8248\n",
      "Epoch 49/75\n",
      "41/41 [==============================] - 0s 3ms/step - loss: 6.9643 - mse: 6.9643 - mae: 1.8958 - val_loss: 19.2020 - val_mse: 19.2020 - val_mae: 2.8640\n",
      "Epoch 50/75\n",
      "41/41 [==============================] - 0s 4ms/step - loss: 6.8638 - mse: 6.8638 - mae: 1.8504 - val_loss: 18.4320 - val_mse: 18.4320 - val_mae: 2.7119\n",
      "Epoch 51/75\n",
      "41/41 [==============================] - 0s 3ms/step - loss: 6.7766 - mse: 6.7766 - mae: 1.8585 - val_loss: 18.8771 - val_mse: 18.8771 - val_mae: 2.7974\n",
      "Epoch 52/75\n",
      "41/41 [==============================] - 0s 4ms/step - loss: 6.6555 - mse: 6.6555 - mae: 1.8277 - val_loss: 19.0110 - val_mse: 19.0110 - val_mae: 2.9181\n",
      "Epoch 53/75\n",
      "41/41 [==============================] - 0s 3ms/step - loss: 6.6411 - mse: 6.6411 - mae: 1.8285 - val_loss: 18.4530 - val_mse: 18.4530 - val_mae: 2.8074\n",
      "Epoch 54/75\n",
      "41/41 [==============================] - 0s 5ms/step - loss: 6.5171 - mse: 6.5171 - mae: 1.8277 - val_loss: 17.5854 - val_mse: 17.5854 - val_mae: 2.6236\n",
      "Epoch 55/75\n",
      "41/41 [==============================] - 0s 4ms/step - loss: 6.7314 - mse: 6.7314 - mae: 1.8431 - val_loss: 18.3488 - val_mse: 18.3488 - val_mae: 2.7171\n",
      "Epoch 56/75\n",
      "41/41 [==============================] - 0s 4ms/step - loss: 6.5274 - mse: 6.5274 - mae: 1.7932 - val_loss: 16.5421 - val_mse: 16.5421 - val_mae: 2.5730\n",
      "Epoch 57/75\n",
      "41/41 [==============================] - 0s 4ms/step - loss: 6.3637 - mse: 6.3637 - mae: 1.7607 - val_loss: 17.9164 - val_mse: 17.9164 - val_mae: 2.7217\n",
      "Epoch 58/75\n",
      "41/41 [==============================] - 0s 3ms/step - loss: 6.2387 - mse: 6.2387 - mae: 1.7748 - val_loss: 17.6076 - val_mse: 17.6076 - val_mae: 2.6421\n",
      "Epoch 59/75\n",
      "41/41 [==============================] - 0s 8ms/step - loss: 6.3649 - mse: 6.3649 - mae: 1.7855 - val_loss: 18.0425 - val_mse: 18.0425 - val_mae: 2.7713\n",
      "Epoch 60/75\n",
      "41/41 [==============================] - 0s 7ms/step - loss: 6.5252 - mse: 6.5252 - mae: 1.8153 - val_loss: 17.2410 - val_mse: 17.2410 - val_mae: 2.6224\n",
      "Epoch 61/75\n",
      "41/41 [==============================] - 0s 6ms/step - loss: 6.2354 - mse: 6.2354 - mae: 1.7810 - val_loss: 17.1436 - val_mse: 17.1436 - val_mae: 2.6801\n",
      "Epoch 62/75\n",
      "41/41 [==============================] - 0s 6ms/step - loss: 6.1001 - mse: 6.1001 - mae: 1.7485 - val_loss: 17.5469 - val_mse: 17.5469 - val_mae: 2.7422\n",
      "Epoch 63/75\n",
      "41/41 [==============================] - ETA: 0s - loss: 6.1286 - mse: 6.1286 - mae: 1.766 - 0s 5ms/step - loss: 6.2792 - mse: 6.2792 - mae: 1.7881 - val_loss: 16.6301 - val_mse: 16.6301 - val_mae: 2.6153\n",
      "Epoch 64/75\n",
      "41/41 [==============================] - 0s 4ms/step - loss: 5.9015 - mse: 5.9015 - mae: 1.6783 - val_loss: 16.7054 - val_mse: 16.7054 - val_mae: 2.6223\n",
      "Epoch 65/75\n",
      "41/41 [==============================] - 0s 4ms/step - loss: 5.7273 - mse: 5.7273 - mae: 1.6853 - val_loss: 17.2874 - val_mse: 17.2874 - val_mae: 2.6820\n",
      "Epoch 66/75\n",
      "41/41 [==============================] - 0s 4ms/step - loss: 5.8888 - mse: 5.8888 - mae: 1.7000 - val_loss: 17.4922 - val_mse: 17.4922 - val_mae: 2.7076\n",
      "Epoch 67/75\n",
      "41/41 [==============================] - 0s 3ms/step - loss: 5.8485 - mse: 5.8485 - mae: 1.7006 - val_loss: 15.9662 - val_mse: 15.9662 - val_mae: 2.6056\n",
      "Epoch 68/75\n",
      "41/41 [==============================] - 0s 4ms/step - loss: 5.8791 - mse: 5.8791 - mae: 1.7257 - val_loss: 16.3411 - val_mse: 16.3411 - val_mae: 2.5997\n",
      "Epoch 69/75\n",
      "41/41 [==============================] - 0s 4ms/step - loss: 5.5356 - mse: 5.5356 - mae: 1.6798 - val_loss: 17.9149 - val_mse: 17.9149 - val_mae: 2.7927\n",
      "Epoch 70/75\n",
      "41/41 [==============================] - 0s 4ms/step - loss: 5.4893 - mse: 5.4893 - mae: 1.6542 - val_loss: 16.5573 - val_mse: 16.5573 - val_mae: 2.6412\n",
      "Epoch 71/75\n",
      "41/41 [==============================] - 0s 4ms/step - loss: 5.5955 - mse: 5.5955 - mae: 1.6615 - val_loss: 16.8452 - val_mse: 16.8452 - val_mae: 2.7267\n",
      "Epoch 72/75\n",
      "41/41 [==============================] - 0s 3ms/step - loss: 5.6114 - mse: 5.6114 - mae: 1.6634 - val_loss: 16.3614 - val_mse: 16.3614 - val_mae: 2.6129\n",
      "Epoch 73/75\n",
      "41/41 [==============================] - 0s 4ms/step - loss: 5.3323 - mse: 5.3323 - mae: 1.6587 - val_loss: 16.1254 - val_mse: 16.1254 - val_mae: 2.6049\n",
      "Epoch 74/75\n",
      "41/41 [==============================] - 0s 4ms/step - loss: 5.4211 - mse: 5.4211 - mae: 1.6357 - val_loss: 17.0743 - val_mse: 17.0743 - val_mae: 2.6792\n",
      "Epoch 75/75\n",
      "41/41 [==============================] - 0s 4ms/step - loss: 5.3001 - mse: 5.3001 - mae: 1.6357 - val_loss: 16.3596 - val_mse: 16.3596 - val_mae: 2.6311\n"
     ]
    },
    {
     "data": {
      "text/plain": [
       "<tensorflow.python.keras.callbacks.History at 0x1b0e13c4a58>"
      ]
     },
     "execution_count": 7,
     "metadata": {},
     "output_type": "execute_result"
    }
   ],
   "source": [
    "from tensorflow import keras\n",
    "from tensorflow.keras.models import Sequential\n",
    "from tensorflow.keras.layers import Dense\n",
    "\n",
    "# Important Hyperparameters\n",
    "inputs = x_train.shape[1]\n",
    "epochs = 75\n",
    "batch_size = 10\n",
    "\n",
    "\n",
    "# Create Model\n",
    "model = Sequential()\n",
    "model.add(Dense(64, activation='relu', input_shape=(inputs,)))\n",
    "model.add(Dense(64, activation='relu'))\n",
    "model.add(Dense(1))\n",
    "\n",
    "# Compile Model\n",
    "model.compile(optimizer='adam', loss='mse', metrics=['mse', 'mae'])\n",
    "\n",
    "# Fit Model\n",
    "model.fit(x_train, y_train, \n",
    "          validation_data=(x_test,y_test), \n",
    "          epochs=epochs, \n",
    "          batch_size=batch_size\n",
    "         )"
   ]
  },
  {
   "cell_type": "markdown",
   "metadata": {
    "colab_type": "text",
    "id": "sYJ8t_ezHP4W"
   },
   "source": [
    "### Hyperparameter Tuning Approaches:\n",
    "\n",
    "#### 1) Babysitting AKA \"Grad Student Descent\".\n",
    "\n",
    "If you fiddled with any hyperparameters yesterday, this is basically what you did. This approach is 100% manual and is pretty common among researchers where finding that 1 exact specification that jumps your model to a level of accuracy never seen before is the difference between publishing and not publishing a paper. Of course the professors don't do this themselves, that's grunt work. This is also known as the fiddle with hyperparameters until you run out of time method.\n",
    "\n",
    "#### 2) Grid Search\n",
    "\n",
    "Grid Search is the Grad Student galaxy brain realization of: why don't I just specify all the experiments I want to run and let the computer try every possible combination of them while I go and grab lunch. This has a specific downside in that if I specify 5 hyperparameters with 5 options each then I've just created 5^5 combinations of hyperparameters to check. Which means that I have to train 3125 different versions of my model Then if I use 5-fold Cross Validation on that then my model has to run 15,525 times. This is the brute-force method of hyperparameter tuning, but it can be very profitable if done wisely. \n",
    "\n",
    "When using Grid Search here's what I suggest: don't use it to test combinations of different hyperparameters, only use it to test different specifications of **a single** hyperparameter. It's rare that combinations between different hyperparameters lead to big performance gains. You'll get 90-95% of the way there if you just Grid Search one parameter and take the best result, then retain that best result while you test another, and then retain the best specification from that while you train another. This at least makes the situation much more manageable and leads to pretty good results. \n",
    "\n",
    "#### 3) Random Search\n",
    "\n",
    "Do Grid Search for a couple of hours and you'll say to yourself - \"There's got to be a better way.\" Enter Random Search. For Random search you specify a hyperparameter space and it picks specifications from that randomly, tries them out, gives you the best results and says - That's going to have to be good enough, go home and spend time with your family. \n",
    "\n",
    "Grid Search treats every parameter as if it was equally important, but this just isn't the case, some are known to move the needle a lot more than others (we'll talk about that in a minute). Random Search allows searching to be specified along the most important parameter and experiments less along the dimensions of less important hyperparameters. The downside of Random search is that it won't find the absolute best hyperparameters, but it is much less costly to perform than Grid Search. \n",
    "\n",
    "#### 4) Bayesian Methods\n",
    "\n",
    "One thing that can make more manual methods like babysitting and gridsearch effective is that as the experimenter sees results he can then make updates to his future searches taking into account the results of past specifications. If only we could hyperparameter tune our hyperparameter tuning. Well, we kind of can. Enter Bayesian Optimization. Neural Networks are like an optimization problem within an optimization problem, and Bayesian Optimization is a search strategy that tries to take into account the results of past searches in order to improve future ones. Check out the new library `keras-tuner` for easy implementations of Bayesian methods. \n"
   ]
  },
  {
   "cell_type": "markdown",
   "metadata": {
    "colab_type": "text",
    "id": "HfQ7D043OMMn"
   },
   "source": [
    "## What Hyperparameters are there to test?\n",
    "\n",
    "- batch_size\n",
    "- training epochs\n",
    "- optimization algorithms\n",
    "- learning rate\n",
    "- momentum\n",
    "- activation functions\n",
    "- dropout regularization\n",
    "- number of neurons in the hidden layer\n",
    "\n",
    "There are more, but these are the most important."
   ]
  },
  {
   "cell_type": "markdown",
   "metadata": {},
   "source": [
    "## Follow Along"
   ]
  },
  {
   "cell_type": "markdown",
   "metadata": {
    "colab_type": "text",
    "id": "Mri5-kXzVKAa"
   },
   "source": [
    "## Batch Size\n",
    "\n",
    "Batch size determines how many observations the model is shown before it calculates loss/error and updates the model weights via gradient descent. You're looking for a sweet spot here where you're showing it enough observations that you have enough information to updates the weights, but not such a large batch size that you don't get a lot of weight update iterations performed in a given epoch. Feed-forward Neural Networks aren't as sensitive to bach_size as other networks, but it is still an important hyperparameter to tune. Smaller batch sizes will also take longer to train. \n",
    "\n",
    "Traditionally, batch size is set in powers of 2 starting at 32 up to 512. Keras defaults to a batch size of 32 if you do not specify it. Yann LeCun famously Twitted: \n",
    "\n",
    "> Training with large minibatches is bad for your health.\n",
    "More importantly, it's bad for your test error.\n",
    "Friends dont let friends use minibatches larger than 32.\n",
    "\n",
    "Check out this paper for more reference on his tweet. https://arxiv.org/abs/1804.07612. \n",
    "\n",
    "Check out this SO question on why batch size is typically set in powers of two: https://datascience.stackexchange.com/questions/20179/what-is-the-advantage-of-keeping-batch-size-a-power-of-2\n",
    "\n"
   ]
  },
  {
   "cell_type": "code",
   "execution_count": 8,
   "metadata": {
    "colab": {
     "base_uri": "https://localhost:8080/",
     "height": 13561
    },
    "colab_type": "code",
    "id": "2smXfriNAGn7",
    "outputId": "ae996575-78e2-43fb-9dbe-5d44aaf0b430"
   },
   "outputs": [
    {
     "name": "stdout",
     "output_type": "stream",
     "text": [
      "Best: 0.6640947341918946 using {'batch_size': 10, 'epochs': 20}\n",
      "Means: 0.6640947341918946, Stdev: 0.0500801830268615 with: {'batch_size': 10, 'epochs': 20}\n",
      "Means: 0.657541811466217, Stdev: 0.02321816933152898 with: {'batch_size': 20, 'epochs': 20}\n",
      "Means: 0.6289703726768494, Stdev: 0.02261154996248131 with: {'batch_size': 40, 'epochs': 20}\n",
      "Means: 0.5625753402709961, Stdev: 0.04676943992370829 with: {'batch_size': 60, 'epochs': 20}\n",
      "Means: 0.5742297053337098, Stdev: 0.030870288952141185 with: {'batch_size': 80, 'epochs': 20}\n",
      "Means: 0.5207198083400726, Stdev: 0.06588209700513603 with: {'batch_size': 100, 'epochs': 20}\n"
     ]
    }
   ],
   "source": [
    "import numpy\n",
    "import pandas as pd\n",
    "from sklearn.model_selection import GridSearchCV\n",
    "from tensorflow.keras.models import Sequential\n",
    "from tensorflow.keras.layers import Dense\n",
    "from tensorflow.keras.wrappers.scikit_learn import KerasClassifier\n",
    "\n",
    "# fix random seed for reproducibility\n",
    "seed = 7\n",
    "numpy.random.seed(seed)\n",
    "\n",
    "# load dataset\n",
    "url =\"https://raw.githubusercontent.com/jbrownlee/Datasets/master/pima-indians-diabetes.data.csv\"\n",
    "\n",
    "dataset = pd.read_csv(url, header=None).values\n",
    "\n",
    "# split into input (X) and output (Y) variables\n",
    "X = dataset[:,0:8]\n",
    "Y = dataset[:,8]\n",
    "\n",
    "# Function to create model, required for KerasClassifier\n",
    "def create_model():\n",
    "    # create model\n",
    "    model = Sequential()\n",
    "    model.add(Dense(12, input_dim=8, activation='relu'))\n",
    "    model.add(Dense(1, activation='sigmoid'))\n",
    "    # Compile model\n",
    "    model.compile(loss='binary_crossentropy', optimizer='adam', metrics=['accuracy'])\n",
    "    return model\n",
    "\n",
    "# create model\n",
    "model = KerasClassifier(build_fn=create_model, verbose=0)\n",
    "\n",
    "# define the grid search parameters\n",
    "# batch_size = [10, 20, 40, 60, 80, 100]\n",
    "# param_grid = dict(batch_size=batch_size, epochs=epochs)\n",
    "\n",
    "# define the grid search parameters\n",
    "param_grid = {'batch_size': [10, 20, 40, 60, 80, 100],\n",
    "              'epochs': [20]}\n",
    "\n",
    "# Create Grid Search\n",
    "grid = GridSearchCV(estimator=model, param_grid=param_grid, n_jobs=1)\n",
    "grid_result = grid.fit(X, Y)\n",
    "\n",
    "# Report Results\n",
    "print(f\"Best: {grid_result.best_score_} using {grid_result.best_params_}\")\n",
    "means = grid_result.cv_results_['mean_test_score']\n",
    "stds = grid_result.cv_results_['std_test_score']\n",
    "params = grid_result.cv_results_['params']\n",
    "for mean, stdev, param in zip(means, stds, params):\n",
    "    print(f\"Means: {mean}, Stdev: {stdev} with: {param}\") "
   ]
  },
  {
   "cell_type": "markdown",
   "metadata": {
    "colab_type": "text",
    "id": "EKcuY6OiaLfz"
   },
   "source": [
    "## Optimizer\n",
    "\n",
    "Remember that there's a different optimizers [optimizers](https://keras.io/optimizers/). At some point, take some time to read up on them a little bit. \"adam\" usually gives the best results. The thing to know about choosing an optimizer is that different optimizers have different hyperparameters like learning rate, momentum, etc. So based on the optimizer you choose you might also have to tune the learning rate and momentum of those optimizers after that. "
   ]
  },
  {
   "cell_type": "markdown",
   "metadata": {
    "colab_type": "text",
    "id": "DG3wq5iOaLig"
   },
   "source": [
    "## Learning Rate\n",
    "\n",
    "Remember that the Learning Rate is a hyperparameter that is specific to your gradient-descent based optimizer selection. A learning rate that is too high will cause divergent behavior, but a Learning Rate that is too low will fail to converge, again, you're looking for the sweet spot. I would start out tuning learning rates by orders of magnitude: [.001, .01, .1, .2, .3, .5] etc. I wouldn't go above .5, but you can try it and see what the behavior is like. \n",
    "\n",
    "Once you have narrowed it down, make the window even smaller and try it again. If after running the above specification your model reports that .1 is the best optimizer, then you should probably try things like [.05, .08, .1, .12, .15] to try and narrow it down. \n",
    "\n",
    "It can also be good to tune the number of epochs in combination with the learning rate since the number of iterations that you allow the learning rate to reach the minimum can determine if you have let it run long enough to converge to the minimum. "
   ]
  },
  {
   "cell_type": "code",
   "execution_count": null,
   "metadata": {},
   "outputs": [],
   "source": []
  },
  {
   "cell_type": "markdown",
   "metadata": {
    "colab_type": "text",
    "id": "gNTBUWd1aLlA"
   },
   "source": [
    "## Momentum\n",
    "\n",
    "Momentum is a hyperparameter that is more commonly associated with Stochastic Gradient Descent. SGD is a common optimizer because it's what people understand and know, but I doubt it will get you the best results, you can try hyperparameter tuning its attributes and see if you can beat the performance from adam. Momentum is a property that decides the willingness of an optimizer to overshoot the minimum. Imagine a ball rolling down one side of a bowl and then up the opposite side a little bit before settling back to the bottom. The purpose of momentum is to try and escale local minima."
   ]
  },
  {
   "cell_type": "markdown",
   "metadata": {
    "colab_type": "text",
    "id": "xnEG-bCJaLnZ"
   },
   "source": [
    "## Activation Functions\n",
    "\n",
    "We've talked about this a little bit, typically you'l want to use ReLU for hidden layers and either Sigmoid, or Softmax for output layers of binary and multi-class classification implementations respectively, but try other activation functions and see if you can get any better results with sigmoid or tanh or something. There are a lot of activation functions that we haven't really talked about. Maybe you'll get good results with them. Maybe you won't. :) <https://keras.io/activations/>"
   ]
  },
  {
   "cell_type": "markdown",
   "metadata": {
    "colab_type": "text",
    "id": "oul9sPq-dU-h"
   },
   "source": [
    "## Network Weight Initialization\n",
    "\n",
    "You saw how big of an effect the way that we initialize our network's weights can have on our results. There are **a lot** of what are called initialization modes. I don't understand all of them, but they can have a big affect on your model's initial accuracy. Your model will get further with less epochs if you initialize it with weights that are well suited to the problem you're trying to solve.\n",
    "\n",
    "`init_mode = ['uniform', 'lecun_uniform', 'normal', 'zero', 'glorot_normal', 'glorot_uniform', 'he_normal', 'he_uniform']`"
   ]
  },
  {
   "cell_type": "markdown",
   "metadata": {
    "colab_type": "text",
    "id": "bqtEuxeQaLqE"
   },
   "source": [
    "## Dropout Regularization and the Weight Constraint\n",
    "\n",
    "the Dropout Regularization value is a percentage of neurons that you want to be randomly deactivated during training. The weight constraint is a second regularization parameter that works in tandem with dropout regularization. You should tune these two values at the same time. \n",
    "\n",
    "Using dropout on visible vs hidden layers might have a different effect. Using dropout on hidden layers might not have any effect while using dropout on hidden layers might have a substantial effect. You don't necessarily need to turn use dropout unless you see that your model has overfitting and generalizability problems."
   ]
  },
  {
   "cell_type": "markdown",
   "metadata": {
    "colab_type": "text",
    "id": "P2c5Cv6oaLtO"
   },
   "source": [
    "## Neurons in Hidden Layer \n",
    "\n",
    "Remember that when we only had a single perceptron our model was only able to fit to linearly separable data, but as we have added layers and nodes to those layers our network has become a powerhouse of fitting nonlinearity in data. The larger the network and the more nodes generally the stronger the network's capacity to fit nonlinear patterns in data. The more nodes and layers the longer it will take to train a network, and higher the probability of overfitting. The larger your network gets the more you'll need dropout regularization or other regularization techniques to keep it in check. \n",
    "\n",
    "Typically depth (more layers) is more important than width (more nodes) for neural networks. This is part of why Deep Learning is so highly touted. Certain deep learning architectures have truly been huge breakthroughs for certain machine learning tasks. \n",
    "\n",
    "You might borrow ideas from other network architectures. For example if I was doing image recognition and I wasn't taking cues from state of the art architectures like resnet, alexnet, googlenet, etc. Then I'm probably going to have to do a lot more experimentation on my own before I find something that works.\n",
    "\n",
    "There are some heuristics, but I am highly skeptical of them. I think you're better off experimenting on your own and forming your own intuition for these kinds of problems. \n",
    "\n",
    "- https://machinelearningmastery.com/how-to-configure-the-number-of-layers-and-nodes-in-a-neural-network/"
   ]
  },
  {
   "cell_type": "markdown",
   "metadata": {},
   "source": [
    "## Challenge\n",
    "You will be expected to tune several hyperparameters in today's module project. "
   ]
  },
  {
   "cell_type": "markdown",
   "metadata": {},
   "source": [
    "# Experiment Tracking Framework (Learn)\n",
    "<a id=\"p2\"></a>"
   ]
  },
  {
   "cell_type": "markdown",
   "metadata": {},
   "source": [
    "## Overview\n",
    "\n",
    "You will notice quickly that managing the results of all the experiments you are running becomes challenging. Which set of parameters did the best? Are my results today different than my results yesterday? Although we use Ipython Notebooks to work, the format is not well suited to logging experimental results. Enter experiment tracking frameworks like [Comet.ml](https://comet.ml) and [Weights and Biases](https://wandb.ai/).\n",
    "\n",
    "Those tools will help you track your experiments, store the results, and the code associated with those experiments. Experimental results can also be readily visualized to see changes in performance across any metric you care about. Data is sent to the tool as each epoch is completed, so you can also see if your model is converging. Let's check out Weights & Biases today. "
   ]
  },
  {
   "cell_type": "markdown",
   "metadata": {},
   "source": [
    "## Follow Along\n",
    "\n",
    "Make sure you login into `wandb` in the terminal before running the next cell. "
   ]
  },
  {
   "cell_type": "code",
   "execution_count": null,
   "metadata": {},
   "outputs": [],
   "source": [
    "import wandb\n",
    "from wandb.keras import WandbCallback"
   ]
  },
  {
   "cell_type": "code",
   "execution_count": null,
   "metadata": {
    "colab": {
     "base_uri": "https://localhost:8080/",
     "height": 1750
    },
    "colab_type": "code",
    "id": "GMXVfmzXp1Oo",
    "outputId": "b05e251e-508f-46e6-865b-f869ae2a5dc4"
   },
   "outputs": [],
   "source": [
    "wandb.init(project=wandb_project, entity=wand_group) #Initializes and Experiment\n",
    "\n",
    "# Important Hyperparameters\n",
    "X =  x_train\n",
    "y =  y_train\n",
    "\n",
    "inputs = X.shape[1]\n",
    "wandb.config.epochs = 50\n",
    "wandb.config.batch_size = 10\n",
    "\n",
    "# Create Model\n",
    "model = Sequential()\n",
    "model.add(Dense(64, activation='relu', input_shape=(inputs,)))\n",
    "model.add(Dense(64, activation='relu'))\n",
    "model.add(Dense(64, activation='relu'))\n",
    "model.add(Dense(1))\n",
    "# Compile Model\n",
    "model.compile(optimizer='adam', loss='mse', metrics=['mse', 'mae'])\n",
    "\n",
    "# Fit Model\n",
    "model.fit(X, y, \n",
    "          validation_split=0.33, \n",
    "          epochs=wandb.config.epochs, \n",
    "          batch_size=wandb.config.batch_size, \n",
    "          callbacks=[WandbCallback()]\n",
    "         )"
   ]
  },
  {
   "cell_type": "markdown",
   "metadata": {},
   "source": [
    "### Your Turn\n",
    "\n",
    "Pick a few hyparameters that we *have not* tuned. Using the same code above, try changing a few parameters you're interested in and submitting the results to weights & biases. :) "
   ]
  },
  {
   "cell_type": "code",
   "execution_count": null,
   "metadata": {},
   "outputs": [],
   "source": [
    "wandb.init(project=wandb_project, entity=wand_group) #Initializes and Experiment\n",
    "\n",
    "wandb.config.epochs = 50\n",
    "wandb.config.batch_size = 10\n",
    "\n",
    "\n",
    "# Fit Model\n",
    "model.fit(\n",
    "          callbacks=[WandbCallback()]\n",
    "         )"
   ]
  },
  {
   "cell_type": "markdown",
   "metadata": {},
   "source": [
    "## Challenge\n",
    "\n",
    "You will be expected to use Weights & Biases to try to tune your model during your module assignment today. "
   ]
  },
  {
   "cell_type": "markdown",
   "metadata": {},
   "source": [
    "# Hyperparameters with RandomSearchCV (Learn)"
   ]
  },
  {
   "cell_type": "markdown",
   "metadata": {},
   "source": [
    "## Overview\n",
    "\n",
    "Basically `GridSearchCV` takes forever. You'll want to adopt a slightly more sophiscated strategy.\n",
    "\n",
    "Let's also take a look at an alternative with Keras-Tuner."
   ]
  },
  {
   "cell_type": "code",
   "execution_count": null,
   "metadata": {},
   "outputs": [],
   "source": [
    "!pip install keras-tuner"
   ]
  },
  {
   "cell_type": "markdown",
   "metadata": {},
   "source": [
    "## Follow Along"
   ]
  },
  {
   "cell_type": "code",
   "execution_count": null,
   "metadata": {},
   "outputs": [],
   "source": [
    "from tensorflow import keras\n",
    "from tensorflow.keras import layers\n",
    "from kerastuner.tuners import RandomSearch\n",
    "\n",
    "\"\"\"\n",
    "This model Tunes:\n",
    "- Number of Neurons in the Hidden Layer\n",
    "- Learning Rate in Adam\n",
    "\n",
    "\"\"\"\n",
    "\n",
    "def build_model(hp):\n",
    "    model = keras.Sequential()\n",
    "    model.add(layers.Dense(units=hp.Int('units',\n",
    "                                        min_value=32,\n",
    "                                        max_value=512,\n",
    "                                        step=32),\n",
    "                           activation='relu'))\n",
    "    model.add(layers.Dense(10, activation='softmax'))\n",
    "    model.compile(\n",
    "        optimizer=keras.optimizers.Adam(\n",
    "            hp.Choice('learning_rate',\n",
    "                      values=[1e-2, 1e-3, 1e-4])),\n",
    "        loss='sparse_categorical_crossentropy',\n",
    "        metrics=['accuracy'])\n",
    "    \n",
    "    return model"
   ]
  },
  {
   "cell_type": "code",
   "execution_count": null,
   "metadata": {},
   "outputs": [],
   "source": [
    "tuner = RandomSearch(\n",
    "    build_model,\n",
    "    objective='val_accuracy',\n",
    "    max_trials=5,\n",
    "    executions_per_trial=3,\n",
    "    directory='./keras-tuner-trial',\n",
    "    project_name='helloworld')"
   ]
  },
  {
   "cell_type": "code",
   "execution_count": null,
   "metadata": {},
   "outputs": [],
   "source": [
    "tuner.search_space_summary()"
   ]
  },
  {
   "cell_type": "code",
   "execution_count": null,
   "metadata": {},
   "outputs": [],
   "source": [
    "tuner.search(x, y,\n",
    "             epochs=5,\n",
    "             validation_data=(val_x, val_y))"
   ]
  },
  {
   "cell_type": "code",
   "execution_count": null,
   "metadata": {},
   "outputs": [],
   "source": [
    "tuner.results_summary()"
   ]
  },
  {
   "cell_type": "markdown",
   "metadata": {},
   "source": [
    "## Challenge\n",
    "\n",
    "Try to apply RandomSearchCV to your module project today. "
   ]
  },
  {
   "cell_type": "markdown",
   "metadata": {},
   "source": [
    "# Review\n",
    "* <a href=\"#p1\">Part 1</a>: Describe the major hyperparemeters to tune\n",
    "    - Activation Functions\n",
    "    - Optimizer\n",
    "    - Number of Layers\n",
    "    - Number of Neurons\n",
    "    - Batch Size\n",
    "    - Dropout Regulaization\n",
    "    - Learning Rate\n",
    "    - Number of Epochs\n",
    "    - and many more\n",
    "* <a href=\"#p2\">Part 2</a>: Implement an experiment tracking framework\n",
    "    - Weights & Biases\n",
    "    - Comet.ml\n",
    "    - By Hand / GridSearch\n",
    "* <a href=\"#p3\">Part 3</a>: Search the hyperparameter space using RandomSearch\n",
    "    - Sklearn still useful (haha)\n",
    "    - Integration with Wieghts & Biases\n",
    "* <a href=\"#p4\">Part 4</a>: Discuss emerging hyperparameter tuning strategies\n",
    "    - Bayesian Optimization\n",
    "    - Hyperopt\n",
    "    - Genetic Evolution"
   ]
  },
  {
   "cell_type": "markdown",
   "metadata": {},
   "source": [
    "# Sources"
   ]
  },
  {
   "cell_type": "markdown",
   "metadata": {},
   "source": [
    "## Additional Reading\n",
    "- https://machinelearningmastery.com/grid-search-hyperparameters-deep-learning-models-python-keras/\n",
    "- https://blog.floydhub.com/guide-to-hyperparameters-search-for-deep-learning-models/\n",
    "- https://machinelearningmastery.com/dropout-regularization-deep-learning-models-keras/\n",
    "- https://machinelearningmastery.com/introduction-to-weight-constraints-to-reduce-generalization-error-in-deep-learning/\n",
    "- https://machinelearningmastery.com/how-to-configure-the-number-of-layers-and-nodes-in-a-neural-network/"
   ]
  }
 ],
 "metadata": {
  "kernelspec": {
   "display_name": "U4S12-NLP (Python3)",
   "language": "python",
   "name": "u4s12-nlp"
  },
  "language_info": {
   "codemirror_mode": {
    "name": "ipython",
    "version": 3
   },
   "file_extension": ".py",
   "mimetype": "text/x-python",
   "name": "python",
   "nbconvert_exporter": "python",
   "pygments_lexer": "ipython3",
   "version": "3.7.0"
  }
 },
 "nbformat": 4,
 "nbformat_minor": 4
}
